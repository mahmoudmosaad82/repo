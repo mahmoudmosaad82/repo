{
 "cells": [
  {
   "cell_type": "markdown",
   "id": "12db7553",
   "metadata": {},
   "source": [
    "## <font color='green'> Session - 2"
   ]
  },
  {
   "cell_type": "markdown",
   "id": "4254328f",
   "metadata": {},
   "source": [
    "---------------------------------------------------------------------------------------------------------------------"
   ]
  },
  {
   "cell_type": "markdown",
   "id": "b226ccd2",
   "metadata": {},
   "source": [
    "Outlines:\n",
    "* Variables\n",
    "* Data Types\n",
    "    * Strings\n",
    "    * Lists\n",
    "    * Tuples\n",
    "    * Set\n",
    "    * Dictionaries.\n",
    "* If statement\n",
    "* For Loops\n",
    "* While Loops"
   ]
  },
  {
   "cell_type": "markdown",
   "id": "67d79e70",
   "metadata": {},
   "source": [
    "### <font color='red'>1- Variables:\n",
    "    Variable is a name that is used to refer to memory location. Python variable is also known as an identifier and used to hold value."
   ]
  },
  {
   "cell_type": "code",
   "execution_count": 1,
   "id": "02d2ff48",
   "metadata": {},
   "outputs": [],
   "source": [
    "ax=15"
   ]
  },
  {
   "cell_type": "code",
   "execution_count": 2,
   "id": "4ca71279",
   "metadata": {},
   "outputs": [
    {
     "name": "stdout",
     "output_type": "stream",
     "text": [
      "15\n"
     ]
    }
   ],
   "source": [
    "#we can use print function to show result of x.\n",
    "print(x)"
   ]
  },
  {
   "cell_type": "code",
   "execution_count": 4,
   "id": "aaf94824",
   "metadata": {},
   "outputs": [
    {
     "name": "stdout",
     "output_type": "stream",
     "text": [
      "1 2 4\n",
      "Mahmoud Ahmed Ismael\n"
     ]
    }
   ],
   "source": [
    "#we can assign multiple values in one line\n",
    "x,y,z=1,2,4\n",
    "name1,name2,name3=\"Mahmoud\",\"Ahmed\",\"Ismael\"\n",
    "print(x,y,z)\n",
    "print(name1,name2,name3)"
   ]
  },
  {
   "cell_type": "code",
   "execution_count": 5,
   "id": "f6fc2e60",
   "metadata": {},
   "outputs": [
    {
     "name": "stdout",
     "output_type": "stream",
     "text": [
      "2 2 2\n"
     ]
    }
   ],
   "source": [
    "#we can assign multiple variables with one value\n",
    "x=y=z=2\n",
    "print(x,y,z)"
   ]
  },
  {
   "cell_type": "code",
   "execution_count": 6,
   "id": "3f6e49c2",
   "metadata": {},
   "outputs": [],
   "source": [
    "#we can delete variable from the memory using (del builtin function)\n",
    "del x"
   ]
  },
  {
   "cell_type": "code",
   "execution_count": 7,
   "id": "92784fce",
   "metadata": {
    "collapsed": true
   },
   "outputs": [
    {
     "ename": "NameError",
     "evalue": "name 'x' is not defined",
     "output_type": "error",
     "traceback": [
      "\u001b[1;31m---------------------------------------------------------------------------\u001b[0m",
      "\u001b[1;31mNameError\u001b[0m                                 Traceback (most recent call last)",
      "Input \u001b[1;32mIn [7]\u001b[0m, in \u001b[0;36m<cell line: 1>\u001b[1;34m()\u001b[0m\n\u001b[1;32m----> 1\u001b[0m \u001b[38;5;28mprint\u001b[39m(\u001b[43mx\u001b[49m)\n",
      "\u001b[1;31mNameError\u001b[0m: name 'x' is not defined"
     ]
    }
   ],
   "source": [
    "print(x)"
   ]
  },
  {
   "cell_type": "markdown",
   "id": "f2979197",
   "metadata": {},
   "source": [
    "#####  <font color='red'>The rules to name an identifier are given below:-\n",
    "\n",
    "* The first character of the variable must be an alphabet or underscore ( _ ).\n",
    "* All the characters except the first character may be an alphabet of lower-case(a-z), upper-case (A-Z), underscore, or digit (0-9).\n",
    "* Identifier name mustn’t contain any white-space, or special character (!, @, #, %, ^, &,*).\n",
    "* Identifier name must not be similar to any keyword defined in the language (print , if, for).\n",
    "* Identifier names are case sensitive; for example, my name, and MyName is not the same.\n",
    "* Use easy and meaningful name and related to the problem.\n"
   ]
  },
  {
   "cell_type": "code",
   "execution_count": 8,
   "id": "4fe3137f",
   "metadata": {
    "collapsed": true
   },
   "outputs": [
    {
     "ename": "SyntaxError",
     "evalue": "invalid decimal literal (2741130094.py, line 1)",
     "output_type": "error",
     "traceback": [
      "\u001b[1;36m  Input \u001b[1;32mIn [8]\u001b[1;36m\u001b[0m\n\u001b[1;33m    1z=5\u001b[0m\n\u001b[1;37m    ^\u001b[0m\n\u001b[1;31mSyntaxError\u001b[0m\u001b[1;31m:\u001b[0m invalid decimal literal\n"
     ]
    }
   ],
   "source": [
    "1z=5"
   ]
  },
  {
   "cell_type": "code",
   "execution_count": 9,
   "id": "acd71819",
   "metadata": {
    "collapsed": true
   },
   "outputs": [
    {
     "ename": "SyntaxError",
     "evalue": "invalid syntax (3311688398.py, line 1)",
     "output_type": "error",
     "traceback": [
      "\u001b[1;36m  Input \u001b[1;32mIn [9]\u001b[1;36m\u001b[0m\n\u001b[1;33m    *!/name=\"Mahmoud\"\u001b[0m\n\u001b[1;37m     ^\u001b[0m\n\u001b[1;31mSyntaxError\u001b[0m\u001b[1;31m:\u001b[0m invalid syntax\n"
     ]
    }
   ],
   "source": [
    "*!/name=\"Mahmoud\""
   ]
  },
  {
   "cell_type": "code",
   "execution_count": 15,
   "id": "d6d59aa1",
   "metadata": {},
   "outputs": [
    {
     "ename": "SyntaxError",
     "evalue": "invalid syntax. Maybe you meant '==' or ':=' instead of '='? (3611081765.py, line 1)",
     "output_type": "error",
     "traceback": [
      "\u001b[1;36m  Input \u001b[1;32mIn [15]\u001b[1;36m\u001b[0m\n\u001b[1;33m    @name=\"Karem\"\u001b[0m\n\u001b[1;37m     ^\u001b[0m\n\u001b[1;31mSyntaxError\u001b[0m\u001b[1;31m:\u001b[0m invalid syntax. Maybe you meant '==' or ':=' instead of '='?\n"
     ]
    }
   ],
   "source": [
    "@name=\"Karem\""
   ]
  },
  {
   "cell_type": "code",
   "execution_count": null,
   "id": "beab4bd0",
   "metadata": {},
   "outputs": [],
   "source": [
    "Tex#t1='abcdef'\n",
    "Tex#t1"
   ]
  },
  {
   "cell_type": "code",
   "execution_count": 19,
   "id": "3db34456",
   "metadata": {},
   "outputs": [
    {
     "data": {
      "text/plain": [
       "'abcdef'"
      ]
     },
     "execution_count": 19,
     "metadata": {},
     "output_type": "execute_result"
    }
   ],
   "source": [
    "Text1='abcdef'\n",
    "Text1"
   ]
  },
  {
   "cell_type": "markdown",
   "id": "103fea37",
   "metadata": {},
   "source": [
    "## <font color='red'>Data Types:"
   ]
  },
  {
   "cell_type": "code",
   "execution_count": null,
   "id": "6e278b5d",
   "metadata": {},
   "outputs": [],
   "source": []
  },
  {
   "cell_type": "markdown",
   "id": "b77ec08b",
   "metadata": {},
   "source": [
    "### <font color='blue'>1) Numbers\n",
    "* int \n",
    "* float\n",
    "* complex"
   ]
  },
  {
   "cell_type": "code",
   "execution_count": 24,
   "id": "bac3dd01",
   "metadata": {},
   "outputs": [
    {
     "name": "stdout",
     "output_type": "stream",
     "text": [
      "5\n"
     ]
    }
   ],
   "source": [
    "int_val=5\n",
    "print(int_val)"
   ]
  },
  {
   "cell_type": "code",
   "execution_count": 26,
   "id": "c6bfefb6",
   "metadata": {},
   "outputs": [
    {
     "name": "stdout",
     "output_type": "stream",
     "text": [
      "5.2\n"
     ]
    }
   ],
   "source": [
    "float_val=5.2\n",
    "print(float_val)"
   ]
  },
  {
   "cell_type": "code",
   "execution_count": 31,
   "id": "3b846fa2",
   "metadata": {},
   "outputs": [
    {
     "name": "stdout",
     "output_type": "stream",
     "text": [
      "(5+5j)\n",
      "(5-5j)\n"
     ]
    }
   ],
   "source": [
    "complex_val1=5+5j\n",
    "complex_val2=5-5j\n",
    "print(complex_val)\n",
    "print(complex_val2)"
   ]
  },
  {
   "cell_type": "code",
   "execution_count": null,
   "id": "7a79c870",
   "metadata": {},
   "outputs": [],
   "source": []
  },
  {
   "cell_type": "markdown",
   "id": "7a053c9b",
   "metadata": {},
   "source": [
    "### <font color='rainbow'> Let's get to know about Arithmetic operation:"
   ]
  },
  {
   "cell_type": "code",
   "execution_count": 21,
   "id": "4d6a0d60",
   "metadata": {},
   "outputs": [
    {
     "name": "stdout",
     "output_type": "stream",
     "text": [
      "5+5=10\n",
      "5-5=0\n",
      "5*5=25\n",
      "50/3=16.666666666666668\n",
      "50//3=16\n",
      "20%2=0\n",
      "5**2=25\n"
     ]
    }
   ],
   "source": [
    "print(f\"5+5={5+5}\") #addition\n",
    "print(f\"5-5={5-5}\") #subtraction\n",
    "print(f\"5*5={5*5}\") #mutliplication \n",
    "print(f\"50/3={50/3}\") #float division\n",
    "print(f\"50//3={50//3}\") #ceil division > int\n",
    "print(f\"20%2={20%2}\") #reminder\n",
    "print(f\"5**2={5**2}\") #exponential"
   ]
  },
  {
   "cell_type": "code",
   "execution_count": null,
   "id": "db1bc70b",
   "metadata": {},
   "outputs": [],
   "source": []
  },
  {
   "cell_type": "markdown",
   "id": "5f384c9b",
   "metadata": {},
   "source": [
    "### <font color='blue'>2) Boolean "
   ]
  },
  {
   "cell_type": "code",
   "execution_count": 34,
   "id": "cfea7cec",
   "metadata": {},
   "outputs": [
    {
     "name": "stdout",
     "output_type": "stream",
     "text": [
      "True\n"
     ]
    }
   ],
   "source": [
    "print(True)"
   ]
  },
  {
   "cell_type": "code",
   "execution_count": 35,
   "id": "45702fbb",
   "metadata": {},
   "outputs": [
    {
     "name": "stdout",
     "output_type": "stream",
     "text": [
      "True\n",
      "False\n"
     ]
    }
   ],
   "source": [
    "is_online=True\n",
    "is_offline=False\n",
    "print(is_online)\n",
    "print(is_offline)"
   ]
  },
  {
   "cell_type": "markdown",
   "id": "d5c1805b",
   "metadata": {},
   "source": [
    "### <font color='rainbow'> Let's get to know about Arithmetic operation:\n",
    "* It's a Comparison operator"
   ]
  },
  {
   "cell_type": "code",
   "execution_count": 38,
   "id": "a01e054f",
   "metadata": {},
   "outputs": [
    {
     "name": "stdout",
     "output_type": "stream",
     "text": [
      "Please input value x5\n",
      "Please input value y10\n"
     ]
    }
   ],
   "source": [
    "x=input(\"Please input value x\")\n",
    "y=input(\"Please input value y\")"
   ]
  },
  {
   "cell_type": "code",
   "execution_count": 42,
   "id": "09eade41",
   "metadata": {},
   "outputs": [
    {
     "name": "stdout",
     "output_type": "stream",
     "text": [
      "5<10    False\n",
      "5>10    True\n",
      "5<=10    False\n",
      "5>=10    True\n",
      "5==10    False\n"
     ]
    }
   ],
   "source": [
    "print(f\"{x}<{y}    {x<y}\")\n",
    "print(f\"{x}>{y}    {x>y}\")\n",
    "print(f\"{x}<={y}    {x<=y}\")\n",
    "print(f\"{x}>={y}    {x>=y}\")\n",
    "print(f\"{x}=={y}    {x==y}\")"
   ]
  },
  {
   "cell_type": "code",
   "execution_count": null,
   "id": "6aa92649",
   "metadata": {},
   "outputs": [],
   "source": []
  },
  {
   "cell_type": "markdown",
   "id": "3af4eae1",
   "metadata": {},
   "source": [
    "### <font color='rainbow'> Let's get to know about Logical operator : \n",
    "-   Logical operators are used on conditional statements (either True or False). \n",
    "* and\n",
    "* or\n",
    "* not"
   ]
  },
  {
   "cell_type": "code",
   "execution_count": 44,
   "id": "1690e404",
   "metadata": {},
   "outputs": [
    {
     "data": {
      "text/plain": [
       "False"
      ]
     },
     "execution_count": 44,
     "metadata": {},
     "output_type": "execute_result"
    }
   ],
   "source": [
    "# and must the both condtion be true to perform true\n",
    "1<2 and 5>10"
   ]
  },
  {
   "cell_type": "code",
   "execution_count": 52,
   "id": "36bb00e4",
   "metadata": {},
   "outputs": [
    {
     "data": {
      "text/plain": [
       "True"
      ]
     },
     "execution_count": 52,
     "metadata": {},
     "output_type": "execute_result"
    }
   ],
   "source": [
    "-4<0 and 10>0"
   ]
  },
  {
   "cell_type": "code",
   "execution_count": 55,
   "id": "74c42bee",
   "metadata": {},
   "outputs": [
    {
     "data": {
      "text/plain": [
       "True"
      ]
     },
     "execution_count": 55,
     "metadata": {},
     "output_type": "execute_result"
    }
   ],
   "source": [
    "#or atleast one of the condtion be True to perform True\n",
    "5>0 or 0>4"
   ]
  },
  {
   "cell_type": "code",
   "execution_count": 56,
   "id": "764a1c70",
   "metadata": {},
   "outputs": [
    {
     "data": {
      "text/plain": [
       "True"
      ]
     },
     "execution_count": 56,
     "metadata": {},
     "output_type": "execute_result"
    }
   ],
   "source": [
    "5!=5 or 4==4 "
   ]
  },
  {
   "cell_type": "code",
   "execution_count": 51,
   "id": "92614e68",
   "metadata": {},
   "outputs": [
    {
     "data": {
      "text/plain": [
       "False"
      ]
     },
     "execution_count": 51,
     "metadata": {},
     "output_type": "execute_result"
    }
   ],
   "source": [
    "#not is the inversion of the result if True -> perform False and vice versa. \n",
    "not 1==1"
   ]
  },
  {
   "cell_type": "code",
   "execution_count": 54,
   "id": "49c22832",
   "metadata": {},
   "outputs": [
    {
     "data": {
      "text/plain": [
       "True"
      ]
     },
     "execution_count": 54,
     "metadata": {},
     "output_type": "execute_result"
    }
   ],
   "source": [
    "not not 5==5"
   ]
  },
  {
   "cell_type": "code",
   "execution_count": null,
   "id": "2a3a36e7",
   "metadata": {},
   "outputs": [],
   "source": []
  },
  {
   "cell_type": "code",
   "execution_count": null,
   "id": "0c5670a7",
   "metadata": {},
   "outputs": [],
   "source": []
  },
  {
   "cell_type": "markdown",
   "id": "627ea01c",
   "metadata": {},
   "source": [
    "### <font color='rainbow'> Let's get to know about Bitwise operators : "
   ]
  },
  {
   "attachments": {
    "1.jpg": {
     "image/jpeg": "[encoded data removed]"
    }
   },
   "cell_type": "markdown",
   "id": "e289e716",
   "metadata": {},
   "source": [
    "![1.jpg](attachment:1.jpg)"
   ]
  },
  {
   "cell_type": "code",
   "execution_count": 68,
   "id": "ba41ba45",
   "metadata": {},
   "outputs": [
    {
     "name": "stdout",
     "output_type": "stream",
     "text": [
      "2\n",
      "10\n",
      "0\n",
      "-2\n",
      "40\n",
      "2\n"
     ]
    }
   ],
   "source": [
    "print(6 & 3)\n",
    "print(10|10)\n",
    "print(2^2)\n",
    "print(~1)\n",
    "print(10<<2)\n",
    "print(10>>2)"
   ]
  },
  {
   "cell_type": "markdown",
   "id": "92a19030",
   "metadata": {},
   "source": [
    "### <font color='blue'>2) String : \n",
    "* Python string is the collection of the characters surrounded by single quotes, double quotes, or triple quotes. \n",
    "* Each character is encoded in the ASCII or Unicode character.\n",
    "* we can say that Python strings are also called the collection of Unicode characters. \n"
   ]
  },
  {
   "attachments": {
    "2.jpg": {
     "image/jpeg": "[encoded data removed]"
    }
   },
   "cell_type": "markdown",
   "id": "bb51de43",
   "metadata": {},
   "source": [
    "![2.jpg](attachment:2.jpg)"
   ]
  },
  {
   "cell_type": "code",
   "execution_count": 91,
   "id": "ae4ad3bc",
   "metadata": {},
   "outputs": [],
   "source": [
    "st1=\"Mahmoud\"\n",
    "st2='Mahmoud'\n",
    "st3='''\n",
    "\n",
    "\n",
    "\n",
    "    Mahmoud Youssef \n",
    "    Data Analyst\n",
    "\n",
    "\n",
    "\n",
    "\n",
    "'''"
   ]
  },
  {
   "cell_type": "code",
   "execution_count": 92,
   "id": "3e2adfc8",
   "metadata": {},
   "outputs": [
    {
     "name": "stdout",
     "output_type": "stream",
     "text": [
      "Mahmoud\n",
      "----------\n",
      "\n",
      "\n",
      "\n",
      "\n",
      "    Mahmoud Youssef \n",
      "    Data Analyst\n",
      "\n",
      "\n",
      "\n",
      "\n",
      "\n",
      "----------\n",
      "\n",
      "\n",
      "\n",
      "\n",
      "    Mahmoud Youssef \n",
      "    Data Analyst\n",
      "\n",
      "\n",
      "\n",
      "\n",
      "\n"
     ]
    }
   ],
   "source": [
    "print(st1)\n",
    "print('-'*10)\n",
    "print(st3)\n",
    "print('-'*10)\n",
    "print(st3)"
   ]
  },
  {
   "cell_type": "code",
   "execution_count": 120,
   "id": "6c308cd3",
   "metadata": {},
   "outputs": [
    {
     "name": "stdout",
     "output_type": "stream",
     "text": [
      "Now I'm ready to use the single \"quotes\" inside a string!\n",
      "Now I'm ready to use the \\ single \"quotes\" inside a string!\n"
     ]
    }
   ],
   "source": [
    "# prinintg strings\n",
    "# we can scape a character using \\\n",
    "print(\"Now I\\'m ready to use the single \\\"quotes\\\" inside a string!\")\n",
    "print('Now I\\'m ready to use the \\\\ single \\\"quotes\\\" inside a string!')"
   ]
  },
  {
   "cell_type": "code",
   "execution_count": null,
   "id": "0dba026e",
   "metadata": {},
   "outputs": [],
   "source": []
  },
  {
   "cell_type": "code",
   "execution_count": 94,
   "id": "840a1cf6",
   "metadata": {},
   "outputs": [],
   "source": [
    "st=\"Hello World!\""
   ]
  },
  {
   "cell_type": "code",
   "execution_count": 97,
   "id": "e7c7d41a",
   "metadata": {},
   "outputs": [
    {
     "name": "stdout",
     "output_type": "stream",
     "text": [
      "H\n",
      "e\n",
      "l\n",
      "l\n",
      "o\n"
     ]
    }
   ],
   "source": [
    "# string indexing: the position of character within a string\n",
    "print(st[0])\n",
    "print(st[1])\n",
    "print(st[2])\n",
    "print(st[3])\n",
    "print(st[4])"
   ]
  },
  {
   "cell_type": "code",
   "execution_count": 119,
   "id": "9c5cee66",
   "metadata": {},
   "outputs": [
    {
     "name": "stdout",
     "output_type": "stream",
     "text": [
      "Hello World!\n",
      "Hello\n",
      "HloWrd\n",
      "!\n",
      "World!\n"
     ]
    }
   ],
   "source": [
    "# we can make slicing here.\n",
    "# slicing-> means that to select a specific characters from a string\n",
    "print(st[0:]) #note that 0 is the start [start:end:steps]\n",
    "print(st[0:5]) #get only hello from string\n",
    "print(st[0::2]) #skip 2 characters\n",
    "print(st[-1]) #the last character\n",
    "print(st[-6::])  "
   ]
  },
  {
   "cell_type": "markdown",
   "id": "a6fade9a",
   "metadata": {},
   "source": [
    "##### String Properties\n",
    "* It's important to note that strings have an important property known as *immutability*. This means that once a string is created, the elements within it can not be changed or replaced. For example:\n",
    "* concatenation [adding two strings together using +]\n",
    "* repeating a string [repeat strings]"
   ]
  },
  {
   "cell_type": "code",
   "execution_count": 124,
   "id": "f57fa60e",
   "metadata": {},
   "outputs": [
    {
     "data": {
      "text/plain": [
       "'Ahmed___#175133'"
      ]
     },
     "execution_count": 124,
     "metadata": {},
     "output_type": "execute_result"
    }
   ],
   "source": [
    "#concat.\n",
    "name='Ahmed'\n",
    "i_D='#175133'\n",
    "name + '___' + i_D"
   ]
  },
  {
   "cell_type": "code",
   "execution_count": 128,
   "id": "64a6d615",
   "metadata": {},
   "outputs": [
    {
     "data": {
      "text/plain": [
       "'HaHaHaHaHaHaHaHaHaHa'"
      ]
     },
     "execution_count": 128,
     "metadata": {},
     "output_type": "execute_result"
    }
   ],
   "source": [
    "#repeating a string.\n",
    "st2='Ha'\n",
    "st2*10"
   ]
  },
  {
   "cell_type": "code",
   "execution_count": null,
   "id": "0aa2769c",
   "metadata": {},
   "outputs": [],
   "source": []
  },
  {
   "cell_type": "markdown",
   "id": "0836599c",
   "metadata": {},
   "source": [
    "#### Exercise - 1:\n",
    "Make a string and hold 'Python for Data Science\n",
    "    \n",
    "    1- Extract the first 4 characters.\n",
    "    2- Extract the last two characters \n",
    "    3- Extract Python from the string\n",
    "    4- Extract the last 4 characters"
   ]
  },
  {
   "cell_type": "code",
   "execution_count": 138,
   "id": "beaa692c",
   "metadata": {},
   "outputs": [
    {
     "name": "stdout",
     "output_type": "stream",
     "text": [
      "Pyth\n",
      "ce\n",
      "Python\n",
      "ence\n"
     ]
    }
   ],
   "source": [
    "#sol.\n",
    "st='Python for Data Science'\n",
    "print(st[0:4])\n",
    "print(st[-2::])\n",
    "print(st[0:6])\n",
    "print(st[-4:])"
   ]
  },
  {
   "cell_type": "markdown",
   "id": "e4a8abbc",
   "metadata": {},
   "source": [
    "#### Exercise - 2:\n",
    "Take 2  strings as input one for firstname and second for lastname\n",
    "    \n",
    "    1- print out the full user name \n",
    "    2- Repeat the name of first name 4 times.\n",
    "    3- Custom name firstname lastname firstname"
   ]
  },
  {
   "cell_type": "code",
   "execution_count": 139,
   "id": "0a3a8721",
   "metadata": {},
   "outputs": [
    {
     "name": "stdout",
     "output_type": "stream",
     "text": [
      "Please Enter Your firstnameAhmed \n",
      "Please Enter Your lastnameMohamed\n"
     ]
    }
   ],
   "source": [
    "first_name=input(\"Please Enter Your firstname\")\n",
    "last_name=input(\"Please Enter Your lastname\")"
   ]
  },
  {
   "cell_type": "code",
   "execution_count": 152,
   "id": "d630a965",
   "metadata": {},
   "outputs": [
    {
     "name": "stdout",
     "output_type": "stream",
     "text": [
      "Ahmed Mohamed\n"
     ]
    }
   ],
   "source": [
    "#1\n",
    "full_name=first_name+last_name\n",
    "print(full_name)"
   ]
  },
  {
   "cell_type": "code",
   "execution_count": 153,
   "id": "55d7fdba",
   "metadata": {},
   "outputs": [
    {
     "name": "stdout",
     "output_type": "stream",
     "text": [
      "Ahmed Ahmed Ahmed Ahmed \n"
     ]
    }
   ],
   "source": [
    "#2\n",
    "four_times=4*first_name\n",
    "print(four_times)"
   ]
  },
  {
   "cell_type": "code",
   "execution_count": 164,
   "id": "28288ba1",
   "metadata": {},
   "outputs": [
    {
     "name": "stdout",
     "output_type": "stream",
     "text": [
      "Ahmed Mohamed Ahmed \n"
     ]
    }
   ],
   "source": [
    "#3\n",
    "custom=first_name+last_name+' '+first_name\n",
    "print(custom)"
   ]
  },
  {
   "cell_type": "code",
   "execution_count": null,
   "id": "376a255f",
   "metadata": {},
   "outputs": [],
   "source": []
  },
  {
   "cell_type": "markdown",
   "id": "7abe79a0",
   "metadata": {},
   "source": [
    "#### <font color='red'>String methods and functions\n",
    "\n",
    "Objects in Python usually have built-in methods. These methods are functions inside the object (we will learn about these in much more depth later) that can perform actions or commands on the object itself.\n",
    "\n",
    "We call methods with a period and then the method name. Methods are in the form:\n",
    "\n",
    "object.method(parameters)\n",
    "\n",
    "Where parameters are extra arguments we can pass into the method. Don't worry if the details don't make 100% sense right now. Later on we will be creating our own objects and functions!\n",
    "\n",
    "you can check a lot of string methods from here: https://www.w3schools.com/python/python_ref_string.asp\n",
    "\n",
    "Here are some examples of built-in methods in strings:"
   ]
  },
  {
   "cell_type": "code",
   "execution_count": 168,
   "id": "bd91b26f",
   "metadata": {},
   "outputs": [
    {
     "name": "stdout",
     "output_type": "stream",
     "text": [
      "old <class 'int'>\n",
      "new <class 'str'>\n"
     ]
    }
   ],
   "source": [
    "# String type casting [to change any datatype to string]\n",
    "num=10\n",
    "num_new=str(num)\n",
    "print(\"old\",type(num))\n",
    "print(\"new\",type(num_new))"
   ]
  },
  {
   "cell_type": "code",
   "execution_count": 169,
   "id": "98486e3f",
   "metadata": {},
   "outputs": [
    {
     "name": "stdout",
     "output_type": "stream",
     "text": [
      "7\n"
     ]
    }
   ],
   "source": [
    "# len -> to know legnth of text\n",
    "print(len('Mahmoud'))"
   ]
  },
  {
   "cell_type": "code",
   "execution_count": 170,
   "id": "01b5393d",
   "metadata": {},
   "outputs": [
    {
     "name": "stdout",
     "output_type": "stream",
     "text": [
      "12\n"
     ]
    }
   ],
   "source": [
    "st=\"Data science\"\n",
    "print(len(st))"
   ]
  },
  {
   "cell_type": "code",
   "execution_count": 172,
   "id": "96e2dc00",
   "metadata": {},
   "outputs": [
    {
     "name": "stdout",
     "output_type": "stream",
     "text": [
      "AHMED MOHAMED\n"
     ]
    }
   ],
   "source": [
    "# .upper() -> to make string uppercase.\n",
    "name='ahmed mohamed'\n",
    "name_upper=name.upper()\n",
    "print(name_upper)"
   ]
  },
  {
   "cell_type": "code",
   "execution_count": 173,
   "id": "3d7aad87",
   "metadata": {},
   "outputs": [
    {
     "name": "stdout",
     "output_type": "stream",
     "text": [
      "ahmed mohamed\n"
     ]
    }
   ],
   "source": [
    "# .lower()\n",
    "name_lower=name.lower()\n",
    "print(name_lower)"
   ]
  },
  {
   "cell_type": "code",
   "execution_count": 178,
   "id": "9ea60d1d",
   "metadata": {},
   "outputs": [
    {
     "data": {
      "text/plain": [
       "False"
      ]
     },
     "execution_count": 178,
     "metadata": {},
     "output_type": "execute_result"
    }
   ],
   "source": [
    "# .startwith()\n",
    "name=\"Karim\"\n",
    "name.startswith('k')"
   ]
  },
  {
   "cell_type": "code",
   "execution_count": 177,
   "id": "b358b31e",
   "metadata": {},
   "outputs": [
    {
     "data": {
      "text/plain": [
       "True"
      ]
     },
     "execution_count": 177,
     "metadata": {},
     "output_type": "execute_result"
    }
   ],
   "source": [
    "# .endwith()\n",
    "name.endswith('m')"
   ]
  },
  {
   "cell_type": "code",
   "execution_count": 179,
   "id": "0bb09a09",
   "metadata": {},
   "outputs": [
    {
     "data": {
      "text/plain": [
       "['Football', 'Vollyball', 'BasketBall']"
      ]
     },
     "execution_count": 179,
     "metadata": {},
     "output_type": "execute_result"
    }
   ],
   "source": [
    "# .split() to split into list within a special character. \n",
    "title='Football,Vollyball,BasketBall'\n",
    "title.split(',')"
   ]
  },
  {
   "cell_type": "code",
   "execution_count": 184,
   "id": "14d03718",
   "metadata": {},
   "outputs": [
    {
     "data": {
      "text/plain": [
       "['Ahmed', 'mohamed', 'abdo']"
      ]
     },
     "execution_count": 184,
     "metadata": {},
     "output_type": "execute_result"
    }
   ],
   "source": [
    "name='Ahmed mohamed abdo'\n",
    "name.split() #the same as name.split(' ')"
   ]
  },
  {
   "cell_type": "code",
   "execution_count": 185,
   "id": "68a289d2",
   "metadata": {},
   "outputs": [
    {
     "data": {
      "text/plain": [
       "['192', '168', '1', '1']"
      ]
     },
     "execution_count": 185,
     "metadata": {},
     "output_type": "execute_result"
    }
   ],
   "source": [
    "ip = '192.168.1.1'\n",
    "ip.split('.')"
   ]
  },
  {
   "cell_type": "code",
   "execution_count": 187,
   "id": "58ea6bd8",
   "metadata": {},
   "outputs": [
    {
     "name": "stdout",
     "output_type": "stream",
     "text": [
      "An Introduction To Statistical Learning\n"
     ]
    }
   ],
   "source": [
    "# .title()\n",
    "title='an introduction to statistical learning'\n",
    "print(title.title())"
   ]
  },
  {
   "cell_type": "code",
   "execution_count": 220,
   "id": "41c7b175",
   "metadata": {},
   "outputs": [
    {
     "name": "stdout",
     "output_type": "stream",
     "text": [
      " Mahmoud Youssef           \n",
      "Mahmoud Youssef\n"
     ]
    }
   ],
   "source": [
    "# .strip() is to remove the whitespace in the begging and end of text\n",
    "name=' Mahmoud Youssef           '\n",
    "print(name)\n",
    "print(name.strip())"
   ]
  },
  {
   "cell_type": "code",
   "execution_count": 212,
   "id": "31e269c6",
   "metadata": {},
   "outputs": [
    {
     "data": {
      "text/plain": [
       "'mahmoud'"
      ]
     },
     "execution_count": 212,
     "metadata": {},
     "output_type": "execute_result"
    }
   ],
   "source": [
    "# .rstrip()\n",
    "name=\"mahmoud \"\n",
    "name.rstrip()"
   ]
  },
  {
   "cell_type": "code",
   "execution_count": 213,
   "id": "2cc407ad",
   "metadata": {},
   "outputs": [
    {
     "data": {
      "text/plain": [
       "'mahmoud'"
      ]
     },
     "execution_count": 213,
     "metadata": {},
     "output_type": "execute_result"
    }
   ],
   "source": [
    "# .lstrip()\n",
    "name=' mahmoud'\n",
    "name.lstrip()"
   ]
  },
  {
   "cell_type": "code",
   "execution_count": 222,
   "id": "557865e7",
   "metadata": {},
   "outputs": [
    {
     "name": "stdout",
     "output_type": "stream",
     "text": [
      "He#lo\n",
      "Hello\n"
     ]
    }
   ],
   "source": [
    "#.replace() ->we can replace one variable with a special variable.\n",
    "x='He#lo'\n",
    "x_edited=x.replace('#','l')\n",
    "print(x)\n",
    "print(x_edited)"
   ]
  },
  {
   "cell_type": "code",
   "execution_count": 208,
   "id": "9e765e8f",
   "metadata": {},
   "outputs": [
    {
     "name": "stdout",
     "output_type": "stream",
     "text": [
      "what is your name: Mahmoud\n",
      "what is ur age: 27\n",
      "what is ur gender: Male\n",
      "username is : Mahmoud, age is: 27, gender is Male\n"
     ]
    }
   ],
   "source": [
    "#Formatting\n",
    "name = input('what is your name: ')\n",
    "age = input('what is ur age: ')\n",
    "gender = input('what is ur gender: ')\n",
    "\n",
    "print(f'username is : {name}, age is: {age}, gender is {gender}')"
   ]
  },
  {
   "cell_type": "code",
   "execution_count": null,
   "id": "2fe2d839",
   "metadata": {},
   "outputs": [],
   "source": []
  },
  {
   "cell_type": "markdown",
   "id": "c53a5bd8",
   "metadata": {},
   "source": [
    "#### Exercise - 3:\n",
    "Take 3 strings from the user \n",
    "    one is for the gmail , and the second is his full name , and the title \n",
    "    \n",
    "    1- print out the user's NT. ex: ymahmoud168@gmail.com  NT:[ymahmoud] \n",
    "    2- print out with formatting the name, gmail , and the title\n",
    "    3- print the full name as lowercase\n",
    "    4- print out the user firstname\n",
    "    5- concat the name of the user and the title in one string then print it out\n",
    "    6- is the user NT the same as the first name?\n",
    "    7- replace each character m with X in the name."
   ]
  },
  {
   "cell_type": "code",
   "execution_count": 190,
   "id": "0c93cc41",
   "metadata": {},
   "outputs": [
    {
     "name": "stdout",
     "output_type": "stream",
     "text": [
      "Enter Your Gmail Account:\n",
      "ymahmoud168@gmail.com\n",
      "Enter Your Full Name:\n",
      "Mahmoud Youssef\n",
      "Enter Your Title:\n",
      "Data Analyst\n"
     ]
    }
   ],
   "source": [
    "gmail=input(\"Enter Your gmail account:\\n\".title())\n",
    "name=input(\"Enter Your full name:\\n\".title())\n",
    "title=input(\"Enter Your title:\\n\".title())\n"
   ]
  },
  {
   "cell_type": "code",
   "execution_count": 194,
   "id": "e6cba0ad",
   "metadata": {},
   "outputs": [
    {
     "name": "stdout",
     "output_type": "stream",
     "text": [
      "ymahmoud168\n"
     ]
    }
   ],
   "source": [
    "#1 \n",
    "print(gmail.split('@')[0])"
   ]
  },
  {
   "cell_type": "code",
   "execution_count": 195,
   "id": "35a186b3",
   "metadata": {},
   "outputs": [
    {
     "name": "stdout",
     "output_type": "stream",
     "text": [
      "name:Mahmoud Youssef\n",
      "title:Data Analyst\n",
      "gmail:ymahmoud168@gmail.com\n"
     ]
    }
   ],
   "source": [
    "#2\n",
    "print(f'name:{name}\\ntitle:{title}\\ngmail:{gmail}')"
   ]
  },
  {
   "cell_type": "code",
   "execution_count": 196,
   "id": "b7bbf89a",
   "metadata": {},
   "outputs": [
    {
     "name": "stdout",
     "output_type": "stream",
     "text": [
      "mahmoud youssef\n"
     ]
    }
   ],
   "source": [
    "#3\n",
    "print(name.lower())"
   ]
  },
  {
   "cell_type": "code",
   "execution_count": 197,
   "id": "78ed8dc0",
   "metadata": {},
   "outputs": [
    {
     "name": "stdout",
     "output_type": "stream",
     "text": [
      "Mahmoud\n"
     ]
    }
   ],
   "source": [
    "#4\n",
    "print(name.split()[0])"
   ]
  },
  {
   "cell_type": "code",
   "execution_count": 199,
   "id": "f8c92fd3",
   "metadata": {},
   "outputs": [
    {
     "name": "stdout",
     "output_type": "stream",
     "text": [
      "Mahmoud Youssef__Data Analyst\n"
     ]
    }
   ],
   "source": [
    "#5\n",
    "custom=name+\"__\"+title\n",
    "print(custom)"
   ]
  },
  {
   "cell_type": "code",
   "execution_count": 207,
   "id": "95861ecd",
   "metadata": {},
   "outputs": [
    {
     "data": {
      "text/plain": [
       "False"
      ]
     },
     "execution_count": 207,
     "metadata": {},
     "output_type": "execute_result"
    }
   ],
   "source": [
    "#6\n",
    "gmail.split('@')[0]==name.split()[0]"
   ]
  },
  {
   "cell_type": "code",
   "execution_count": 225,
   "id": "e3cd383a",
   "metadata": {},
   "outputs": [
    {
     "data": {
      "text/plain": [
       "'XahXoud youssef'"
      ]
     },
     "execution_count": 225,
     "metadata": {},
     "output_type": "execute_result"
    }
   ],
   "source": [
    "#7\n",
    "name=\"Mahmoud Youssef\"\n",
    "name.lower().replace('m','X')"
   ]
  },
  {
   "cell_type": "code",
   "execution_count": null,
   "id": "799cbd3f",
   "metadata": {},
   "outputs": [],
   "source": []
  },
  {
   "cell_type": "markdown",
   "id": "cc8459b9",
   "metadata": {},
   "source": [
    "### <font color='blue'>2) Lists : \n",
    "* Earlier when discussing strings we introduced the concept of a sequence in Python. Lists can be thought of the most general version of a sequence in Python. Unlike strings, they are mutable, meaning the elements inside a list can be changed!\n",
    "\n",
    "* Lists are constructed with brackets [] and commas separating every element in the list.\n",
    "\n",
    "* Let's go ahead and see how we can construct lists! \n"
   ]
  },
  {
   "cell_type": "code",
   "execution_count": 278,
   "id": "3c5f5cb3",
   "metadata": {},
   "outputs": [
    {
     "data": {
      "text/plain": [
       "[1, 2, 3]"
      ]
     },
     "execution_count": 278,
     "metadata": {},
     "output_type": "execute_result"
    }
   ],
   "source": [
    "# Assign a list to an variable named my_list\n",
    "my_list = [1, 2, 3]\n",
    "my_list"
   ]
  },
  {
   "cell_type": "code",
   "execution_count": 280,
   "id": "5dbecaed",
   "metadata": {},
   "outputs": [
    {
     "data": {
      "text/plain": [
       "[5, 2, 3]"
      ]
     },
     "execution_count": 280,
     "metadata": {},
     "output_type": "execute_result"
    }
   ],
   "source": [
    "# we can update any value [reassign value in a list]\n",
    "my_list[0]=5\n",
    "my_list"
   ]
  },
  {
   "cell_type": "code",
   "execution_count": 235,
   "id": "9150a0d3",
   "metadata": {},
   "outputs": [
    {
     "data": {
      "text/plain": [
       "['A string', 23, 100.232, 'o', True, ['ahmed', 'mohammed', 'eman']]"
      ]
     },
     "execution_count": 235,
     "metadata": {},
     "output_type": "execute_result"
    }
   ],
   "source": [
    "#We just created a list of integers, but lists can actually hold different object types. For example:\n",
    "my_list = ['A string', 23, 100.232, 'o', True, ['ahmed', 'mohammed', 'eman']]\n",
    "my_list"
   ]
  },
  {
   "cell_type": "code",
   "execution_count": 237,
   "id": "18bc79aa",
   "metadata": {},
   "outputs": [
    {
     "name": "stdout",
     "output_type": "stream",
     "text": [
      "A string\n",
      "23\n",
      "100.232\n",
      "o\n"
     ]
    }
   ],
   "source": [
    "# Indexing in Lists\n",
    "print(my_list[0])\n",
    "print(my_list[1])\n",
    "print(my_list[2])\n",
    "print(my_list[3])"
   ]
  },
  {
   "cell_type": "code",
   "execution_count": 238,
   "id": "757d7cbc",
   "metadata": {},
   "outputs": [
    {
     "name": "stdout",
     "output_type": "stream",
     "text": [
      "['A string', 23, 100.232, 'o', True, ['ahmed', 'mohammed', 'eman']]\n",
      "['Not A string', 23, 100.232, 'o', True, ['ahmed', 'mohammed', 'eman']]\n"
     ]
    }
   ],
   "source": [
    "# Since it's immutable -> we can update any value in the list\n",
    "print(my_list)\n",
    "my_list[0]=\"Not A string\"\n",
    "print(my_list) #after update"
   ]
  },
  {
   "cell_type": "code",
   "execution_count": null,
   "id": "e9fc2881",
   "metadata": {},
   "outputs": [],
   "source": []
  },
  {
   "cell_type": "code",
   "execution_count": 244,
   "id": "27f5c3d3",
   "metadata": {},
   "outputs": [
    {
     "name": "stdout",
     "output_type": "stream",
     "text": [
      "['Not A string', 23, 100.232, 'o', True, ['ahmed', 'mohammed', 'eman']]\n",
      "['Not A string', 23]\n",
      "['ahmed', 'mohammed', 'eman']\n",
      "['Not A string', 100.232, True]\n",
      "['Not A string', 23, 100.232, 'o', True]\n",
      "[['ahmed', 'mohammed', 'eman'], True, 'o', 100.232, 23, 'Not A string']\n"
     ]
    }
   ],
   "source": [
    "# Slicing Lists\n",
    "print(my_list[0:]) #slicing will be [start:end:steps]\n",
    "print(my_list[0:2]) #will grap first two values in the list\n",
    "print(my_list[-1] )#will grap the last index of the list\n",
    "print(my_list[0::2]) #will skip two from the list\n",
    "print(my_list[0:5]) #will get the first 5 values from list\n",
    "print(my_list[::-1]) #will reverse the list"
   ]
  },
  {
   "cell_type": "code",
   "execution_count": null,
   "id": "2ba5eab3",
   "metadata": {},
   "outputs": [],
   "source": []
  },
  {
   "cell_type": "code",
   "execution_count": 246,
   "id": "9b1aa4dc",
   "metadata": {},
   "outputs": [
    {
     "name": "stdout",
     "output_type": "stream",
     "text": [
      "[1, 2, 3, 4, 5, 6]\n",
      "[1, 2, 3, 1, 2, 3, 1, 2, 3, 1, 2, 3, 1, 2, 3]\n"
     ]
    }
   ],
   "source": [
    "# List Properties\n",
    "# Concatenating\n",
    "# Repeating\n",
    "l1=[1,2,3]\n",
    "l2=[4,5,6]\n",
    "print(l1+l2) #concatnating\n",
    "print(l1*5)  #repeating"
   ]
  },
  {
   "cell_type": "code",
   "execution_count": null,
   "id": "b1f65401",
   "metadata": {},
   "outputs": [],
   "source": []
  },
  {
   "cell_type": "code",
   "execution_count": 247,
   "id": "45a29473",
   "metadata": {},
   "outputs": [],
   "source": [
    "# List Methods:-"
   ]
  },
  {
   "cell_type": "code",
   "execution_count": 275,
   "id": "89e0d71e",
   "metadata": {},
   "outputs": [],
   "source": [
    "l3=[10,-20,34,40,-5,61]"
   ]
  },
  {
   "cell_type": "code",
   "execution_count": 263,
   "id": "abbd1de7",
   "metadata": {},
   "outputs": [
    {
     "data": {
      "text/plain": [
       "6"
      ]
     },
     "execution_count": 263,
     "metadata": {},
     "output_type": "execute_result"
    }
   ],
   "source": [
    "# len()\n",
    "len(l3) #will get the legnth of the list."
   ]
  },
  {
   "cell_type": "code",
   "execution_count": 253,
   "id": "19d47fa5",
   "metadata": {},
   "outputs": [
    {
     "data": {
      "text/plain": [
       "61"
      ]
     },
     "execution_count": 253,
     "metadata": {},
     "output_type": "execute_result"
    }
   ],
   "source": [
    "# max()\n",
    "max(l3)"
   ]
  },
  {
   "cell_type": "code",
   "execution_count": 254,
   "id": "c381871c",
   "metadata": {},
   "outputs": [
    {
     "data": {
      "text/plain": [
       "-20"
      ]
     },
     "execution_count": 254,
     "metadata": {},
     "output_type": "execute_result"
    }
   ],
   "source": [
    "# min()\n",
    "min(l3)"
   ]
  },
  {
   "cell_type": "code",
   "execution_count": 255,
   "id": "a4a9d848",
   "metadata": {},
   "outputs": [
    {
     "data": {
      "text/plain": [
       "120"
      ]
     },
     "execution_count": 255,
     "metadata": {},
     "output_type": "execute_result"
    }
   ],
   "source": [
    "# sum\n",
    "sum(l3)"
   ]
  },
  {
   "cell_type": "code",
   "execution_count": 276,
   "id": "9f560a01",
   "metadata": {},
   "outputs": [
    {
     "name": "stdout",
     "output_type": "stream",
     "text": [
      "[10, -20, 34, 40, -5, 61, 31]\n"
     ]
    }
   ],
   "source": [
    "# .append() -> is to append a new value in the list\n",
    "l3.append(31)\n",
    "print(l3)"
   ]
  },
  {
   "cell_type": "code",
   "execution_count": 277,
   "id": "f9b24852",
   "metadata": {},
   "outputs": [
    {
     "name": "stdout",
     "output_type": "stream",
     "text": [
      "7\n"
     ]
    }
   ],
   "source": [
    "print(len(l3))"
   ]
  },
  {
   "cell_type": "code",
   "execution_count": 284,
   "id": "fec09494",
   "metadata": {},
   "outputs": [
    {
     "name": "stdout",
     "output_type": "stream",
     "text": [
      "[[1, 2, 3], [4, 5, 6], 7, 8, [10, 11]]\n",
      "5\n",
      "<class 'list'>\n"
     ]
    }
   ],
   "source": [
    "## Nested lists [Multiple lists in one]\n",
    "nested=[[1,2,3],[4,5,6],7,8,[10,11]]\n",
    "print(nested)\n",
    "print(len(nested))\n",
    "print(type(nested))"
   ]
  },
  {
   "cell_type": "code",
   "execution_count": 291,
   "id": "72d58c96",
   "metadata": {},
   "outputs": [
    {
     "name": "stdout",
     "output_type": "stream",
     "text": [
      "1\n",
      "11\n",
      "[5, 6]\n",
      "[7, 8]\n",
      "15\n"
     ]
    }
   ],
   "source": [
    "print(nested[0][0])  #Grap 1 from the list\n",
    "print(nested[-1][-1]) #Grap 11 from the list\n",
    "print(nested[1][-2:]) #Grap [5,6] from the list\n",
    "print(nested[2:4])    #Grap 7,8 from the list\n",
    "print(sum(nested[1]))  #Get the sum of the [4,5,6] from the list"
   ]
  },
  {
   "cell_type": "code",
   "execution_count": null,
   "id": "1db06f67",
   "metadata": {},
   "outputs": [],
   "source": []
  },
  {
   "cell_type": "markdown",
   "id": "2bc43bf2",
   "metadata": {},
   "source": [
    "#### Exercise - 3:\n",
    "Take 2 lists  \n",
    "    names=['Ahmed','Kareem','Youssef','Haya','Nermine']\n",
    "    age=[15,17,20,10,12]\n",
    "    \n",
    "    1- Get the first name from the list\n",
    "    2- Grap the last age and the name  of the student.\n",
    "    3- Add a new student called 'Hazem' and his age is 33\n",
    "    4- Get the average of ages in the list\n",
    "    5- Get the elder age\n",
    "    6- Grap kareem and youssef and their ages from the list\n",
    "    7- Sort ages descending then print it out\n",
    "    \n",
    "    \n",
    "    "
   ]
  },
  {
   "cell_type": "code",
   "execution_count": 293,
   "id": "a1303e64",
   "metadata": {},
   "outputs": [],
   "source": [
    "names=['Ahmed','Kareem','Youssef','Haya','Nermine'] \n",
    "age=[15,17,20,10,12]"
   ]
  },
  {
   "cell_type": "code",
   "execution_count": 295,
   "id": "99a6c5a4",
   "metadata": {},
   "outputs": [
    {
     "name": "stdout",
     "output_type": "stream",
     "text": [
      "Ahmed\n"
     ]
    }
   ],
   "source": [
    "#1\n",
    "print(names[0])"
   ]
  },
  {
   "cell_type": "code",
   "execution_count": 296,
   "id": "f4ceae18",
   "metadata": {},
   "outputs": [
    {
     "name": "stdout",
     "output_type": "stream",
     "text": [
      "12\n"
     ]
    }
   ],
   "source": [
    "#2\n",
    "print(age[-1])"
   ]
  },
  {
   "cell_type": "code",
   "execution_count": 297,
   "id": "22140d8a",
   "metadata": {},
   "outputs": [
    {
     "name": "stdout",
     "output_type": "stream",
     "text": [
      "['Ahmed', 'Kareem', 'Youssef', 'Haya', 'Nermine', 'Hazem']\n",
      "[15, 17, 20, 10, 12, 33]\n"
     ]
    }
   ],
   "source": [
    "#3\n",
    "names.append('Hazem')\n",
    "age.append(33)\n",
    "print(names)\n",
    "print(age)"
   ]
  },
  {
   "cell_type": "code",
   "execution_count": 299,
   "id": "8db24b0c",
   "metadata": {},
   "outputs": [
    {
     "data": {
      "text/plain": [
       "17.833333333333332"
      ]
     },
     "execution_count": 299,
     "metadata": {},
     "output_type": "execute_result"
    }
   ],
   "source": [
    "#4\n",
    "sum(age)/len(age)"
   ]
  },
  {
   "cell_type": "code",
   "execution_count": 301,
   "id": "3c2849eb",
   "metadata": {},
   "outputs": [
    {
     "name": "stdout",
     "output_type": "stream",
     "text": [
      "33 Years old\n"
     ]
    }
   ],
   "source": [
    "#5\n",
    "print(max(age),\"Years old\")"
   ]
  },
  {
   "cell_type": "code",
   "execution_count": 304,
   "id": "3dd03f96",
   "metadata": {},
   "outputs": [
    {
     "name": "stdout",
     "output_type": "stream",
     "text": [
      "['Kareem', 'Youssef']\n",
      "[17, 20]\n"
     ]
    }
   ],
   "source": [
    "#5\n",
    "print(names[1:3])\n",
    "print(age[1:3])"
   ]
  },
  {
   "cell_type": "code",
   "execution_count": 307,
   "id": "b7ff6ac2",
   "metadata": {},
   "outputs": [
    {
     "data": {
      "text/plain": [
       "[33, 20, 17, 15, 12, 10]"
      ]
     },
     "execution_count": 307,
     "metadata": {},
     "output_type": "execute_result"
    }
   ],
   "source": [
    "#6 \n",
    "age.sort(reverse=True)\n",
    "age"
   ]
  },
  {
   "cell_type": "code",
   "execution_count": null,
   "id": "c030c63b",
   "metadata": {},
   "outputs": [],
   "source": []
  },
  {
   "cell_type": "markdown",
   "id": "48f87e06",
   "metadata": {},
   "source": [
    "### <font color='blue'>3)Tuples :\n",
    "In Python tuples are very similar to lists, however, unlike lists they are immutable meaning they can not be changed and are faster than lists. You would use tuples to present things that shouldn't be changed, such as days of the week, or dates on a calendar.\n",
    "\n",
    "In this section, we will get a brief overview of the following:\n",
    "\n",
    "Constructing Tuples\n",
    "Immutability\n",
    "When to Use Tuples\n",
    "You'll have an intuition of how to use tuples based on what you've learned about lists. We can treat them very similarly with the major distinction being that tuples are immutable.\n",
    "\n",
    "1) Constructing Tuples\n",
    "The construction of a tuples use () with elements separated by commas. For example:"
   ]
  },
  {
   "cell_type": "code",
   "execution_count": 308,
   "id": "bf7c0c32",
   "metadata": {},
   "outputs": [
    {
     "name": "stdout",
     "output_type": "stream",
     "text": [
      "<class 'tuple'>\n"
     ]
    }
   ],
   "source": [
    "t1=(1,2,3)\n",
    "print(type(t1))"
   ]
  },
  {
   "cell_type": "code",
   "execution_count": 309,
   "id": "67270d02",
   "metadata": {},
   "outputs": [
    {
     "data": {
      "text/plain": [
       "('one', 2)"
      ]
     },
     "execution_count": 309,
     "metadata": {},
     "output_type": "execute_result"
    }
   ],
   "source": [
    "# Can also mix object types\n",
    "t = ('one', 2)\n",
    "\n",
    "# Show\n",
    "t"
   ]
  },
  {
   "cell_type": "code",
   "execution_count": 322,
   "id": "cca86eab",
   "metadata": {},
   "outputs": [
    {
     "name": "stdout",
     "output_type": "stream",
     "text": [
      "one\n",
      "2\n",
      "(2, 3)\n"
     ]
    }
   ],
   "source": [
    "# Use indexing just like we did in lists\n",
    "print(t[0])\n",
    "print(t[-1])\n",
    "print(t1[-2:])"
   ]
  },
  {
   "cell_type": "code",
   "execution_count": 311,
   "id": "37fedb12",
   "metadata": {},
   "outputs": [
    {
     "ename": "TypeError",
     "evalue": "'tuple' object does not support item assignment",
     "output_type": "error",
     "traceback": [
      "\u001b[1;31m---------------------------------------------------------------------------\u001b[0m",
      "\u001b[1;31mTypeError\u001b[0m                                 Traceback (most recent call last)",
      "Input \u001b[1;32mIn [311]\u001b[0m, in \u001b[0;36m<cell line: 1>\u001b[1;34m()\u001b[0m\n\u001b[1;32m----> 1\u001b[0m t[\u001b[38;5;241m0\u001b[39m] \u001b[38;5;241m=\u001b[39m \u001b[38;5;124m'\u001b[39m\u001b[38;5;124mchange\u001b[39m\u001b[38;5;124m'\u001b[39m\n",
      "\u001b[1;31mTypeError\u001b[0m: 'tuple' object does not support item assignment"
     ]
    }
   ],
   "source": [
    "# Immutability\n",
    "t[0] = 'change'"
   ]
  },
  {
   "cell_type": "code",
   "execution_count": 313,
   "id": "427f182c",
   "metadata": {},
   "outputs": [
    {
     "ename": "TypeError",
     "evalue": "'str' object does not support item assignment",
     "output_type": "error",
     "traceback": [
      "\u001b[1;31m---------------------------------------------------------------------------\u001b[0m",
      "\u001b[1;31mTypeError\u001b[0m                                 Traceback (most recent call last)",
      "Input \u001b[1;32mIn [313]\u001b[0m, in \u001b[0;36m<cell line: 2>\u001b[1;34m()\u001b[0m\n\u001b[0;32m      1\u001b[0m word \u001b[38;5;241m=\u001b[39m \u001b[38;5;124m'\u001b[39m\u001b[38;5;124mhello world\u001b[39m\u001b[38;5;124m'\u001b[39m\n\u001b[1;32m----> 2\u001b[0m word[\u001b[38;5;241m0\u001b[39m] \u001b[38;5;241m=\u001b[39m \u001b[38;5;124m'\u001b[39m\u001b[38;5;124mK\u001b[39m\u001b[38;5;124m'\u001b[39m\n",
      "\u001b[1;31mTypeError\u001b[0m: 'str' object does not support item assignment"
     ]
    }
   ],
   "source": [
    "word = 'hello world'\n",
    "word[0] = 'K'"
   ]
  },
  {
   "cell_type": "code",
   "execution_count": 314,
   "id": "3d84baa2",
   "metadata": {},
   "outputs": [
    {
     "data": {
      "text/plain": [
       "'Kello world'"
      ]
     },
     "execution_count": 314,
     "metadata": {},
     "output_type": "execute_result"
    }
   ],
   "source": [
    "'K' + word[1:]"
   ]
  },
  {
   "cell_type": "markdown",
   "id": "cb767c19",
   "metadata": {},
   "source": [
    "###### When to Use Tuples\n",
    "* If you have immutable data, constant size and values.\n",
    "* If you want speed up processing on the data."
   ]
  },
  {
   "cell_type": "code",
   "execution_count": null,
   "id": "ab8cfc0c",
   "metadata": {},
   "outputs": [],
   "source": []
  },
  {
   "cell_type": "markdown",
   "id": "24742dfd",
   "metadata": {},
   "source": [
    "### <font color='blue'>4)Sets :\n",
    "  Sets are an unordered collection of unique elements. We can construct them by using the set() function. Let's go ahead and make a set to see how it works\n",
    "\n",
    "* Create Sets from scratch\n",
    "* Create Sets from Lists\n",
    "* Add, Delete values from Set\n",
    "Set Methods"
   ]
  },
  {
   "cell_type": "code",
   "execution_count": 324,
   "id": "27fe5456",
   "metadata": {},
   "outputs": [
    {
     "data": {
      "text/plain": [
       "{2, 3, 4}"
      ]
     },
     "execution_count": 324,
     "metadata": {},
     "output_type": "execute_result"
    }
   ],
   "source": [
    "x = {2, 3, 4}\n",
    "x"
   ]
  },
  {
   "cell_type": "code",
   "execution_count": 325,
   "id": "cba153a2",
   "metadata": {},
   "outputs": [
    {
     "name": "stdout",
     "output_type": "stream",
     "text": [
      "<class 'set'>\n"
     ]
    }
   ],
   "source": [
    "print(type(x))"
   ]
  },
  {
   "cell_type": "code",
   "execution_count": 328,
   "id": "7b9386b5",
   "metadata": {},
   "outputs": [],
   "source": [
    "# Create a list with repeats\n",
    "list1 = [1,1,2,2,3,4,5,6,1,1]"
   ]
  },
  {
   "cell_type": "code",
   "execution_count": 327,
   "id": "789cb196",
   "metadata": {},
   "outputs": [
    {
     "data": {
      "text/plain": [
       "{1, 2, 3, 4, 5, 6}"
      ]
     },
     "execution_count": 327,
     "metadata": {},
     "output_type": "execute_result"
    }
   ],
   "source": [
    "# Cast as set to get unique values\n",
    "x = set(list1)\n",
    "x"
   ]
  },
  {
   "cell_type": "code",
   "execution_count": 329,
   "id": "b129e550",
   "metadata": {},
   "outputs": [],
   "source": [
    "# We add to sets with the add() method\n",
    "# add,delete values to a set\n",
    "x.add(1)\n",
    "x.add(3)\n",
    "x.add(2)\n",
    "x.add(1)\n",
    "x.add(1)\n",
    "x.add(1)\n",
    "x.add(2)\n",
    "x.add(3)\n",
    "x.add(4)\n",
    "x.add(10)"
   ]
  },
  {
   "cell_type": "code",
   "execution_count": 330,
   "id": "126f6fe5",
   "metadata": {},
   "outputs": [
    {
     "data": {
      "text/plain": [
       "{1, 2, 3, 4, 5, 6, 10}"
      ]
     },
     "execution_count": 330,
     "metadata": {},
     "output_type": "execute_result"
    }
   ],
   "source": [
    "x"
   ]
  },
  {
   "cell_type": "code",
   "execution_count": 332,
   "id": "bc679cb2",
   "metadata": {},
   "outputs": [
    {
     "data": {
      "text/plain": [
       "{1, 2, 4, 5, 6, 10}"
      ]
     },
     "execution_count": 332,
     "metadata": {},
     "output_type": "execute_result"
    }
   ],
   "source": [
    "# to delete\n",
    "x.discard(3)\n",
    "x"
   ]
  },
  {
   "cell_type": "code",
   "execution_count": null,
   "id": "cfa85d99",
   "metadata": {},
   "outputs": [],
   "source": []
  },
  {
   "cell_type": "code",
   "execution_count": 336,
   "id": "6c944716",
   "metadata": {},
   "outputs": [],
   "source": [
    "#methods:\n",
    "fruits={\"orange\",\"apple\",\"pineapple\"}\n",
    "names={\"ahmed\",\"mahmoud\",\"apple\"}"
   ]
  },
  {
   "cell_type": "code",
   "execution_count": 337,
   "id": "b0c47ecf",
   "metadata": {},
   "outputs": [
    {
     "data": {
      "text/plain": [
       "{'apple'}"
      ]
     },
     "execution_count": 337,
     "metadata": {},
     "output_type": "execute_result"
    }
   ],
   "source": [
    "# .intersection()\n",
    "fruits.intersection(names)"
   ]
  },
  {
   "cell_type": "code",
   "execution_count": 339,
   "id": "8edb1c94",
   "metadata": {},
   "outputs": [
    {
     "data": {
      "text/plain": [
       "{'orange', 'pineapple'}"
      ]
     },
     "execution_count": 339,
     "metadata": {},
     "output_type": "execute_result"
    }
   ],
   "source": [
    "# .difference()\n",
    "fruits.difference(names)"
   ]
  },
  {
   "cell_type": "code",
   "execution_count": 341,
   "id": "7c5d5b78",
   "metadata": {},
   "outputs": [
    {
     "data": {
      "text/plain": [
       "{'ahmed', 'apple', 'mahmoud', 'orange', 'pineapple'}"
      ]
     },
     "execution_count": 341,
     "metadata": {},
     "output_type": "execute_result"
    }
   ],
   "source": [
    "# .unioin()\n",
    "fruits.union(names)"
   ]
  },
  {
   "cell_type": "code",
   "execution_count": null,
   "id": "c955253b",
   "metadata": {},
   "outputs": [],
   "source": []
  },
  {
   "cell_type": "markdown",
   "id": "4efa8965",
   "metadata": {},
   "source": [
    "#### Exercise - 4:\n",
    "you have a list [1,1,1,1,2,10,15,17,30,-10]\n",
    "and you asked to\n",
    "\n",
    "        1-Drop duplicates\n",
    "        2-Remove negative values from the container\n",
    "        3-Add 33 value to the container."
   ]
  },
  {
   "cell_type": "code",
   "execution_count": 343,
   "id": "48fafa12",
   "metadata": {},
   "outputs": [],
   "source": [
    "L=[1,1,1,1,2,10,15,17,30,-10]"
   ]
  },
  {
   "cell_type": "code",
   "execution_count": 344,
   "id": "6ef77813",
   "metadata": {},
   "outputs": [
    {
     "data": {
      "text/plain": [
       "{-10, 1, 2, 10, 15, 17, 30}"
      ]
     },
     "execution_count": 344,
     "metadata": {},
     "output_type": "execute_result"
    }
   ],
   "source": [
    "#1\n",
    "s=set(L)\n",
    "s"
   ]
  },
  {
   "cell_type": "code",
   "execution_count": 346,
   "id": "449a0fc0",
   "metadata": {},
   "outputs": [
    {
     "data": {
      "text/plain": [
       "{1, 2, 10, 15, 17, 30}"
      ]
     },
     "execution_count": 346,
     "metadata": {},
     "output_type": "execute_result"
    }
   ],
   "source": [
    "#2\n",
    "s.discard(-10)\n",
    "s"
   ]
  },
  {
   "cell_type": "code",
   "execution_count": 348,
   "id": "f194b05f",
   "metadata": {},
   "outputs": [
    {
     "data": {
      "text/plain": [
       "{1, 2, 10, 15, 17, 30, 33}"
      ]
     },
     "execution_count": 348,
     "metadata": {},
     "output_type": "execute_result"
    }
   ],
   "source": [
    "#3\n",
    "s.add(33)\n",
    "s"
   ]
  },
  {
   "cell_type": "code",
   "execution_count": null,
   "id": "d00c7dde",
   "metadata": {},
   "outputs": [],
   "source": []
  },
  {
   "cell_type": "markdown",
   "id": "24e1fe2a",
   "metadata": {},
   "source": [
    "### <font color='blue'>4)Dictionaries\n",
    "We've been learning about sequences in Python but now we're going to switch gears and learn about mappings in Python. If you're familiar with other languages you can think of these Dictionaries as hash tables.\n",
    "\n",
    "This section will serve as a brief introduction to dictionaries and consist of:\n",
    "\n",
    "Constructing a Dictionary\n",
    "Accessing, Inserting, Updating and Deleting objects in a dictionary\n",
    "Nesting Dictionaries\n",
    "Dictionary Methods\n",
    "So what are mappings? Mappings are a collection of objects that are stored by a key, unlike a sequence that stored objects by their relative position. This is an important distinction, since mappings won't retain order since they have objects defined by a key.\n",
    "\n",
    "A Python dictionary consists of a key and then an associated value. That value can be almost any Python object.\n",
    "\n",
    "1) Constructing a Dictionary\n",
    "Let's see how we can construct dictionaries to get a better understanding of how they work!"
   ]
  },
  {
   "cell_type": "code",
   "execution_count": 350,
   "id": "469d8f9b",
   "metadata": {},
   "outputs": [
    {
     "data": {
      "text/plain": [
       "{'key1': 'value1', 'key2': 'value2'}"
      ]
     },
     "execution_count": 350,
     "metadata": {},
     "output_type": "execute_result"
    }
   ],
   "source": [
    "# Make a dictionary with {} and : to signify a key and a value\n",
    "my_dict = {'key1':'value1', 'key2':'value2'}\n",
    "my_dict"
   ]
  },
  {
   "cell_type": "code",
   "execution_count": 351,
   "id": "94a97eb0",
   "metadata": {},
   "outputs": [
    {
     "data": {
      "text/plain": [
       "{'oranges': 10, 'apples': 20, 'grapes': 30}"
      ]
     },
     "execution_count": 351,
     "metadata": {},
     "output_type": "execute_result"
    }
   ],
   "source": [
    "store = {\"oranges\": 10, \"apples\": 20, \"grapes\": 30}\n",
    "store"
   ]
  },
  {
   "cell_type": "code",
   "execution_count": 352,
   "id": "de18fc55",
   "metadata": {},
   "outputs": [
    {
     "data": {
      "text/plain": [
       "dict"
      ]
     },
     "execution_count": 352,
     "metadata": {},
     "output_type": "execute_result"
    }
   ],
   "source": [
    "type(store)"
   ]
  },
  {
   "cell_type": "code",
   "execution_count": 353,
   "id": "b366d666",
   "metadata": {},
   "outputs": [],
   "source": [
    "#dictionary is flexable it can contains dictionary as a value.\n",
    "my_dict2 = {'key1': 123, 'key2': [12, 23, 33], 'key3': ['item0','item1','item2'], 'key4': {'a': 30, 'b':40}}"
   ]
  },
  {
   "cell_type": "code",
   "execution_count": 354,
   "id": "55e2a58a",
   "metadata": {},
   "outputs": [
    {
     "data": {
      "text/plain": [
       "{'key1': 123,\n",
       " 'key2': [12, 23, 33],\n",
       " 'key3': ['item0', 'item1', 'item2'],\n",
       " 'key4': {'a': 30, 'b': 40}}"
      ]
     },
     "execution_count": 354,
     "metadata": {},
     "output_type": "execute_result"
    }
   ],
   "source": [
    "my_dict2"
   ]
  },
  {
   "cell_type": "markdown",
   "id": "28dbb1bb",
   "metadata": {},
   "source": [
    "###### Accessing, Inserting, Updating and Deleting objects in a dictionary"
   ]
  },
  {
   "cell_type": "code",
   "execution_count": 355,
   "id": "9aba4a71",
   "metadata": {},
   "outputs": [
    {
     "data": {
      "text/plain": [
       "{'key1': 'value1', 'key2': 'value2'}"
      ]
     },
     "execution_count": 355,
     "metadata": {},
     "output_type": "execute_result"
    }
   ],
   "source": [
    "my_dict"
   ]
  },
  {
   "cell_type": "code",
   "execution_count": 356,
   "id": "1e6253f8",
   "metadata": {},
   "outputs": [
    {
     "data": {
      "text/plain": [
       "'value1'"
      ]
     },
     "execution_count": 356,
     "metadata": {},
     "output_type": "execute_result"
    }
   ],
   "source": [
    "# Let's call items from the dictionary\n",
    "my_dict['key1']"
   ]
  },
  {
   "cell_type": "code",
   "execution_count": 357,
   "id": "4db3bb3a",
   "metadata": {},
   "outputs": [
    {
     "data": {
      "text/plain": [
       "30"
      ]
     },
     "execution_count": 357,
     "metadata": {},
     "output_type": "execute_result"
    }
   ],
   "source": [
    "store['grapes']"
   ]
  },
  {
   "cell_type": "code",
   "execution_count": 358,
   "id": "97ace5a5",
   "metadata": {},
   "outputs": [
    {
     "data": {
      "text/plain": [
       "{'key1': 123,\n",
       " 'key2': [12, 23, 33],\n",
       " 'key3': ['item0', 'item1', 'item2'],\n",
       " 'key4': {'a': 30, 'b': 40}}"
      ]
     },
     "execution_count": 358,
     "metadata": {},
     "output_type": "execute_result"
    }
   ],
   "source": [
    "my_dict2"
   ]
  },
  {
   "cell_type": "code",
   "execution_count": 359,
   "id": "25fbe507",
   "metadata": {},
   "outputs": [
    {
     "data": {
      "text/plain": [
       "'item1'"
      ]
     },
     "execution_count": 359,
     "metadata": {},
     "output_type": "execute_result"
    }
   ],
   "source": [
    "my_dict2['key3'][1]"
   ]
  },
  {
   "cell_type": "code",
   "execution_count": 360,
   "id": "7959c53e",
   "metadata": {},
   "outputs": [
    {
     "data": {
      "text/plain": [
       "'m'"
      ]
     },
     "execution_count": 360,
     "metadata": {},
     "output_type": "execute_result"
    }
   ],
   "source": [
    "my_dict2['key3'][1][3]"
   ]
  },
  {
   "cell_type": "code",
   "execution_count": 361,
   "id": "c717748e",
   "metadata": {},
   "outputs": [
    {
     "data": {
      "text/plain": [
       "{'key1': 'value1', 'key2': 'value2'}"
      ]
     },
     "execution_count": 361,
     "metadata": {},
     "output_type": "execute_result"
    }
   ],
   "source": [
    "# Insert\n",
    "my_dict"
   ]
  },
  {
   "cell_type": "code",
   "execution_count": 362,
   "id": "776e9935",
   "metadata": {},
   "outputs": [
    {
     "data": {
      "text/plain": [
       "{'key1': 'value1', 'key2': 'value2', 'new_key': 'ahmed'}"
      ]
     },
     "execution_count": 362,
     "metadata": {},
     "output_type": "execute_result"
    }
   ],
   "source": [
    "my_dict['new_key'] = 'ahmed'\n",
    "my_dict"
   ]
  },
  {
   "cell_type": "code",
   "execution_count": 363,
   "id": "362da158",
   "metadata": {},
   "outputs": [],
   "source": [
    "# Create a new dictionary\n",
    "d = {}"
   ]
  },
  {
   "cell_type": "code",
   "execution_count": 364,
   "id": "fa503d51",
   "metadata": {},
   "outputs": [],
   "source": [
    "# Create a new key through assignment\n",
    "d['animal'] = 'Dog'"
   ]
  },
  {
   "cell_type": "code",
   "execution_count": 365,
   "id": "632b4f55",
   "metadata": {},
   "outputs": [],
   "source": [
    "# Can do this with any object\n",
    "d['answer'] = 42"
   ]
  },
  {
   "cell_type": "code",
   "execution_count": 366,
   "id": "89059a08",
   "metadata": {},
   "outputs": [
    {
     "data": {
      "text/plain": [
       "{'animal': 'Dog', 'answer': 42}"
      ]
     },
     "execution_count": 366,
     "metadata": {},
     "output_type": "execute_result"
    }
   ],
   "source": [
    "#show\n",
    "d"
   ]
  },
  {
   "cell_type": "code",
   "execution_count": 369,
   "id": "ea961644",
   "metadata": {},
   "outputs": [
    {
     "data": {
      "text/plain": [
       "{'animal': 'Dog', 'answer': 10, 'name': 'ahmed'}"
      ]
     },
     "execution_count": 369,
     "metadata": {},
     "output_type": "execute_result"
    }
   ],
   "source": [
    "#updating\n",
    "d['answer']=10\n",
    "d"
   ]
  },
  {
   "cell_type": "code",
   "execution_count": 374,
   "id": "6a338c52",
   "metadata": {},
   "outputs": [
    {
     "name": "stdout",
     "output_type": "stream",
     "text": [
      "{'key1': 123, 'key2': [12, 23, 33], 'key3': ['item0', 'item1', 'item2'], 'key4': {'a': 30, 'b': 40}}\n"
     ]
    }
   ],
   "source": [
    "#let's update key4:a to be from 30 -> 500\n",
    "print(my_dict2)"
   ]
  },
  {
   "cell_type": "code",
   "execution_count": 375,
   "id": "5da80664",
   "metadata": {},
   "outputs": [],
   "source": [
    "my_dict2['key4']['a']=500"
   ]
  },
  {
   "cell_type": "code",
   "execution_count": 376,
   "id": "84975168",
   "metadata": {},
   "outputs": [
    {
     "name": "stdout",
     "output_type": "stream",
     "text": [
      "{'key1': 123, 'key2': [12, 23, 33], 'key3': ['item0', 'item1', 'item2'], 'key4': {'a': 500, 'b': 40}}\n"
     ]
    }
   ],
   "source": [
    "print(my_dict2)"
   ]
  },
  {
   "cell_type": "code",
   "execution_count": 377,
   "id": "1727d1b7",
   "metadata": {},
   "outputs": [],
   "source": [
    "# Deleting from dictionary"
   ]
  },
  {
   "cell_type": "code",
   "execution_count": 378,
   "id": "a8e0e625",
   "metadata": {},
   "outputs": [
    {
     "data": {
      "text/plain": [
       "{'key1': 123, 'key2': [12, 23, 33], 'key3': ['item0', 'item1', 'item2']}"
      ]
     },
     "execution_count": 378,
     "metadata": {},
     "output_type": "execute_result"
    }
   ],
   "source": [
    "my_dict = {'key1': 123, 'key2': [12, 23, 33], 'key3': ['item0','item1','item2']}\n",
    "my_dict"
   ]
  },
  {
   "cell_type": "code",
   "execution_count": 379,
   "id": "69088f28",
   "metadata": {},
   "outputs": [
    {
     "data": {
      "text/plain": [
       "{'key2': [12, 23, 33], 'key3': ['item0', 'item1', 'item2']}"
      ]
     },
     "execution_count": 379,
     "metadata": {},
     "output_type": "execute_result"
    }
   ],
   "source": [
    "# Set the object equal to itself minus 100 \n",
    "del my_dict['key1']\n",
    "my_dict"
   ]
  },
  {
   "cell_type": "code",
   "execution_count": 380,
   "id": "0076e62c",
   "metadata": {},
   "outputs": [
    {
     "data": {
      "text/plain": [
       "{'key2': [12, 33], 'key3': ['item0', 'item1', 'item2']}"
      ]
     },
     "execution_count": 380,
     "metadata": {},
     "output_type": "execute_result"
    }
   ],
   "source": [
    "del my_dict['key2'][1]\n",
    "my_dict"
   ]
  },
  {
   "cell_type": "code",
   "execution_count": 381,
   "id": "94012799",
   "metadata": {},
   "outputs": [],
   "source": [
    "# Nested Dictionary\n",
    "# Dictionary nested inside a dictionary nested inside a dictionary\n",
    "d = {'key1':{'nestkey':{'subnestkey':'value'}}}"
   ]
  },
  {
   "cell_type": "code",
   "execution_count": 383,
   "id": "3e3850ec",
   "metadata": {},
   "outputs": [
    {
     "data": {
      "text/plain": [
       "{'nestkey': {'subnestkey': 'value'}}"
      ]
     },
     "execution_count": 383,
     "metadata": {},
     "output_type": "execute_result"
    }
   ],
   "source": [
    "d['key1']"
   ]
  },
  {
   "cell_type": "code",
   "execution_count": 386,
   "id": "e375a687",
   "metadata": {},
   "outputs": [
    {
     "data": {
      "text/plain": [
       "'value'"
      ]
     },
     "execution_count": 386,
     "metadata": {},
     "output_type": "execute_result"
    }
   ],
   "source": [
    "d['key1']['nestkey']['subnestkey']"
   ]
  },
  {
   "cell_type": "code",
   "execution_count": null,
   "id": "bb5e0feb",
   "metadata": {},
   "outputs": [],
   "source": []
  },
  {
   "cell_type": "markdown",
   "id": "f01a300a",
   "metadata": {},
   "source": [
    "###### Dictionary Methods"
   ]
  },
  {
   "cell_type": "code",
   "execution_count": 387,
   "id": "4b7bcef6",
   "metadata": {},
   "outputs": [
    {
     "data": {
      "text/plain": [
       "{'key2': [12, 33], 'key3': ['item0', 'item1', 'item2']}"
      ]
     },
     "execution_count": 387,
     "metadata": {},
     "output_type": "execute_result"
    }
   ],
   "source": [
    "my_dict"
   ]
  },
  {
   "cell_type": "code",
   "execution_count": 388,
   "id": "d95923a5",
   "metadata": {},
   "outputs": [
    {
     "data": {
      "text/plain": [
       "['item0', 'item1', 'item2']"
      ]
     },
     "execution_count": 388,
     "metadata": {},
     "output_type": "execute_result"
    }
   ],
   "source": [
    "# get\n",
    "my_dict.get('key3')"
   ]
  },
  {
   "cell_type": "code",
   "execution_count": 389,
   "id": "b1852253",
   "metadata": {},
   "outputs": [],
   "source": [
    "my_dict.get('key4') #it will print None because there's no such a key called key4."
   ]
  },
  {
   "cell_type": "code",
   "execution_count": null,
   "id": "1edaf75f",
   "metadata": {},
   "outputs": [],
   "source": []
  },
  {
   "cell_type": "code",
   "execution_count": 390,
   "id": "250ce50b",
   "metadata": {},
   "outputs": [
    {
     "data": {
      "text/plain": [
       "dict_keys(['key2', 'key3'])"
      ]
     },
     "execution_count": 390,
     "metadata": {},
     "output_type": "execute_result"
    }
   ],
   "source": [
    "# .keys() -> it returns the keys\n",
    "my_dict.keys()"
   ]
  },
  {
   "cell_type": "code",
   "execution_count": 391,
   "id": "25a3d389",
   "metadata": {},
   "outputs": [
    {
     "data": {
      "text/plain": [
       "dict_values([[12, 33], ['item0', 'item1', 'item2']])"
      ]
     },
     "execution_count": 391,
     "metadata": {},
     "output_type": "execute_result"
    }
   ],
   "source": [
    "# .values() -> it returns values\n",
    "my_dict.values()"
   ]
  },
  {
   "cell_type": "code",
   "execution_count": 392,
   "id": "88e3caf9",
   "metadata": {},
   "outputs": [
    {
     "data": {
      "text/plain": [
       "dict_items([('key2', [12, 33]), ('key3', ['item0', 'item1', 'item2'])])"
      ]
     },
     "execution_count": 392,
     "metadata": {},
     "output_type": "execute_result"
    }
   ],
   "source": [
    "# .items() -> it returns keys and values.\n",
    "my_dict.items()"
   ]
  },
  {
   "cell_type": "code",
   "execution_count": null,
   "id": "f3bec77a",
   "metadata": {},
   "outputs": [],
   "source": []
  },
  {
   "cell_type": "markdown",
   "id": "552a9b33",
   "metadata": {},
   "source": [
    "#### Exercise - 5:\n",
    "Now you have to make dictionary for 5 students with three different keys [names,ages,ids]\n",
    "\n",
    "names=['Ahmed','Mahmoud','Kareem','Ibrahim','Maryam']\n",
    "ages=[21,25,23,21,20]\n",
    "ids=[1,2,3,4,5]\n",
    "\n",
    "\n",
    "Then:\n",
    "* Get all names of students.\n",
    "* Get all ages.\n",
    "* Show the whole keys\n",
    "* add abdaullah with age 26 and id 6 \n",
    "* delete Ahmed and his data\n",
    "* Get the Average value for the ages."
   ]
  },
  {
   "cell_type": "code",
   "execution_count": 405,
   "id": "3b8761e2",
   "metadata": {},
   "outputs": [],
   "source": [
    "students={\n",
    "    'names':['Ahmed','Mahmoud','Kareem','Ibrahim','Maryam'],\n",
    "    'ages':[21,25,23,21,20],\n",
    "    'ids':[1,2,3,4,5]\n",
    "}"
   ]
  },
  {
   "cell_type": "code",
   "execution_count": 399,
   "id": "598ebc26",
   "metadata": {},
   "outputs": [
    {
     "data": {
      "text/plain": [
       "['Ahmed', 'Mahmoud', 'Kareem', 'Ibrahim', 'Maryam']"
      ]
     },
     "execution_count": 399,
     "metadata": {},
     "output_type": "execute_result"
    }
   ],
   "source": [
    "#1\n",
    "students['names']"
   ]
  },
  {
   "cell_type": "code",
   "execution_count": 400,
   "id": "9fea84d8",
   "metadata": {},
   "outputs": [
    {
     "data": {
      "text/plain": [
       "[21, 25, 23, 21, 20]"
      ]
     },
     "execution_count": 400,
     "metadata": {},
     "output_type": "execute_result"
    }
   ],
   "source": [
    "#2\n",
    "students['ages']"
   ]
  },
  {
   "cell_type": "code",
   "execution_count": 401,
   "id": "67e2d839",
   "metadata": {},
   "outputs": [
    {
     "data": {
      "text/plain": [
       "dict_keys(['names', 'ages', 'ids'])"
      ]
     },
     "execution_count": 401,
     "metadata": {},
     "output_type": "execute_result"
    }
   ],
   "source": [
    "#3\n",
    "students.keys()"
   ]
  },
  {
   "cell_type": "code",
   "execution_count": 406,
   "id": "bef52e6b",
   "metadata": {},
   "outputs": [
    {
     "data": {
      "text/plain": [
       "{'names': ['Ahmed', 'Mahmoud', 'Kareem', 'Ibrahim', 'Maryam', 'abdaullah'],\n",
       " 'ages': [21, 25, 23, 21, 20, 26],\n",
       " 'ids': [1, 2, 3, 4, 5, 6]}"
      ]
     },
     "execution_count": 406,
     "metadata": {},
     "output_type": "execute_result"
    }
   ],
   "source": [
    "#4\n",
    "students['names'].append('abdaullah')\n",
    "students['ages'].append(26)\n",
    "students['ids'].append(6)\n",
    "students"
   ]
  },
  {
   "cell_type": "code",
   "execution_count": 407,
   "id": "fe469dc0",
   "metadata": {},
   "outputs": [],
   "source": [
    "#5\n",
    "del students['names'][0]\n",
    "del students['ages'][0]\n",
    "del students['ids'][0]"
   ]
  },
  {
   "cell_type": "code",
   "execution_count": 408,
   "id": "de2ac201",
   "metadata": {},
   "outputs": [
    {
     "data": {
      "text/plain": [
       "{'names': ['Mahmoud', 'Kareem', 'Ibrahim', 'Maryam', 'abdaullah'],\n",
       " 'ages': [25, 23, 21, 20, 26],\n",
       " 'ids': [2, 3, 4, 5, 6]}"
      ]
     },
     "execution_count": 408,
     "metadata": {},
     "output_type": "execute_result"
    }
   ],
   "source": [
    "students"
   ]
  },
  {
   "cell_type": "code",
   "execution_count": 411,
   "id": "b5f6a124",
   "metadata": {},
   "outputs": [
    {
     "data": {
      "text/plain": [
       "23.0"
      ]
     },
     "execution_count": 411,
     "metadata": {},
     "output_type": "execute_result"
    }
   ],
   "source": [
    "#6 average\n",
    "sum(students['ages'])/len(students['ages'])"
   ]
  },
  {
   "cell_type": "code",
   "execution_count": null,
   "id": "6dd759ab",
   "metadata": {},
   "outputs": [],
   "source": []
  },
  {
   "cell_type": "markdown",
   "id": "a5697256",
   "metadata": {},
   "source": [
    "### <font color='blue'>3)If statement\n",
    "if, elif, else Statements\n",
    "if Statements in Python allows us to tell the computer to perform alternative actions based on a certain set of results.\n",
    "\n",
    "Verbally, we can imagine we are telling the computer:\n",
    "\n",
    "\"Hey if this case happens, perform some action\"\n",
    "\n",
    "We can then expand the idea further with elif and else statements, which allow us to tell the computer:\n",
    "\n",
    "\"Hey if this case happens, perform some action. Else, if another case happens, perform some other action. Else, if none of the above cases happened, perform this action.\"\n",
    "\n",
    "Let's go ahead and look at the syntax format for if statements to get a better idea of this:"
   ]
  },
  {
   "cell_type": "code",
   "execution_count": 412,
   "id": "bdb23dde",
   "metadata": {},
   "outputs": [
    {
     "name": "stdout",
     "output_type": "stream",
     "text": [
      "hello\n",
      "python\n",
      "hi\n"
     ]
    }
   ],
   "source": [
    "if True:\n",
    "    print('hello')\n",
    "    print('python')\n",
    "print('hi')"
   ]
  },
  {
   "cell_type": "code",
   "execution_count": 413,
   "id": "66b994cf",
   "metadata": {},
   "outputs": [
    {
     "name": "stdout",
     "output_type": "stream",
     "text": [
      "hi\n"
     ]
    }
   ],
   "source": [
    "if False:\n",
    "    print('hello')\n",
    "    print('python')\n",
    "print('hi')"
   ]
  },
  {
   "cell_type": "code",
   "execution_count": 414,
   "id": "1fef34b4",
   "metadata": {},
   "outputs": [
    {
     "name": "stdout",
     "output_type": "stream",
     "text": [
      "x was True!\n"
     ]
    }
   ],
   "source": [
    "#Let's add in some else logic:\n",
    "x = True\n",
    "\n",
    "if x:\n",
    "    print('x was True!')\n",
    "else:\n",
    "    print('I will be printed in any case where x is not true')\n",
    "    print('finish')"
   ]
  },
  {
   "cell_type": "code",
   "execution_count": 415,
   "id": "b392b38d",
   "metadata": {},
   "outputs": [
    {
     "name": "stdout",
     "output_type": "stream",
     "text": [
      "I will be printed in any case where x is not true\n",
      "finish\n"
     ]
    }
   ],
   "source": [
    "x = False\n",
    "\n",
    "if x:\n",
    "    print('x was True!')\n",
    "else:\n",
    "    print('I will be printed in any case where x is not true')\n",
    "    print('finish')"
   ]
  },
  {
   "cell_type": "markdown",
   "id": "795f9cff",
   "metadata": {},
   "source": [
    "Multiple branches with elif\n",
    "Let's get a fuller picture of how far if, elif, and else can take us!\n",
    "\n",
    "We write this out in a nested structure. Take note of how the if, elif, and else line up in the code. This can help you see what if is related to what elif or else statements.\n",
    "\n",
    "We'll reintroduce a comparison syntax for Python."
   ]
  },
  {
   "cell_type": "code",
   "execution_count": 416,
   "id": "8ef94ada",
   "metadata": {},
   "outputs": [
    {
     "name": "stdout",
     "output_type": "stream",
     "text": [
      "Welcome to the Auto Shop!\n"
     ]
    }
   ],
   "source": [
    "loc = 'Auto Shop'\n",
    "# loc = 'Bank'\n",
    "# loc = 'Park'\n",
    "# loc = 'Museum'\n",
    "# loc = 'School'\n",
    "\n",
    "if loc == 'Auto Shop':\n",
    "    print('Welcome to the Auto Shop!')\n",
    "elif loc == 'Bank':\n",
    "    print('Welcome to the bank!')\n",
    "elif loc == 'Park':\n",
    "    print('Welcome to the Park!')\n",
    "    print('have fun')\n",
    "elif loc == 'Museum':\n",
    "    print('Welcome to the museum!')\n",
    "else:\n",
    "    print('Where are you?')\n",
    "    print('finish')"
   ]
  },
  {
   "cell_type": "code",
   "execution_count": 417,
   "id": "63f40312",
   "metadata": {},
   "outputs": [
    {
     "name": "stdout",
     "output_type": "stream",
     "text": [
      "Welcome Eman!\n"
     ]
    }
   ],
   "source": [
    "person = 'Eman'\n",
    "\n",
    "if person == 'Sammy':\n",
    "    print('Welcome Sammy!')\n",
    "elif person == 'Ahmed':\n",
    "    print('Welcome Ahmed!')\n",
    "elif person == 'Eman':\n",
    "    print('Welcome Eman!')\n",
    "elif person == 'Hany':\n",
    "    print('Welcome Hany!')\n",
    "else:\n",
    "    print(\"Welcome, what's your name?\")"
   ]
  },
  {
   "cell_type": "code",
   "execution_count": 418,
   "id": "887675bc",
   "metadata": {},
   "outputs": [
    {
     "name": "stdout",
     "output_type": "stream",
     "text": [
      "Welcome, what's your name?\n"
     ]
    }
   ],
   "source": [
    "person = 'Ahmed'\n",
    "\n",
    "if person == 'Sammy':\n",
    "    print('Welcome Sammy!')\n",
    "elif person =='George':\n",
    "    print('Welcome George!')\n",
    "else:\n",
    "    print(\"Welcome, what's your name?\")"
   ]
  },
  {
   "cell_type": "markdown",
   "id": "2a0d4383",
   "metadata": {},
   "source": [
    "Many if conditions after each other"
   ]
  },
  {
   "cell_type": "code",
   "execution_count": 419,
   "id": "973f2a72",
   "metadata": {},
   "outputs": [
    {
     "name": "stdout",
     "output_type": "stream",
     "text": [
      "Welcome to the Auto Shop!\n",
      "i am lost\n",
      "Where are you?\n",
      "finish\n"
     ]
    }
   ],
   "source": [
    "loc = 'Auto Shop'\n",
    "# loc = 'Bank'\n",
    "# loc = 'Park'\n",
    "# loc = 'Museum'\n",
    "# loc = 'School'\n",
    "\n",
    "if loc == 'Auto Shop':\n",
    "    print('Welcome to the Auto Shop!')\n",
    "elif loc == 'Park':\n",
    "     print('yes')  \n",
    "        \n",
    "        \n",
    "if loc == 'Bank':\n",
    "    print('Welcome to the bank!') \n",
    "    \n",
    "    \n",
    "if loc == 'Park':\n",
    "    print('Welcome to the Park!')\n",
    "    print('have fun')\n",
    "elif loc == 'Hotel':\n",
    "    print('hotel')\n",
    "else:\n",
    "    print('i am lost') \n",
    "    \n",
    "    \n",
    "if loc == 'Museum':\n",
    "    print('Welcome to the museum!')\n",
    "else:\n",
    "    print('Where are you?')\n",
    "    print('finish')"
   ]
  },
  {
   "cell_type": "code",
   "execution_count": 2,
   "id": "cd40600d",
   "metadata": {},
   "outputs": [
    {
     "name": "stdout",
     "output_type": "stream",
     "text": [
      "what is ur score, between -10 and 10:6\n",
      "good\n"
     ]
    }
   ],
   "source": [
    "# Nested if statments\n",
    "score = int(input('what is ur score, between -10 and 10:'))\n",
    "\n",
    "if score >= -10 and score < -5:   # -10 <= score < -5 \n",
    "    print('worse')\n",
    "elif score >= -5 and score < 0:   # -5 <= score < 0\n",
    "    print('bad')\n",
    "elif score >= 0 and score < 5:    # 0 <= score < 5\n",
    "    print('normal')\n",
    "elif score >= 5 and score < 10:   # 5 <= score < 10\n",
    "    print('good')\n",
    "elif score == 10:   \n",
    "    print('excellent')\n",
    "else:\n",
    "    print('wrong score')\n",
    "    "
   ]
  },
  {
   "cell_type": "code",
   "execution_count": null,
   "id": "9520a60f",
   "metadata": {},
   "outputs": [],
   "source": []
  },
  {
   "cell_type": "markdown",
   "id": "d6accb19",
   "metadata": {},
   "source": [
    "#### Exercise - 6:\n",
    "You're asked to build a simple calculator \n",
    "take the operator from the user which [+,-,*,/]\n",
    "and two values then print out the operation use formatting "
   ]
  },
  {
   "cell_type": "code",
   "execution_count": 2,
   "id": "60b79361",
   "metadata": {},
   "outputs": [
    {
     "name": "stdout",
     "output_type": "stream",
     "text": [
      "Enter number 1\n",
      "10\n",
      "Enter number 2\n",
      "0\n",
      "Choose the operatot [-,+,/,*]\n",
      "/\n",
      "cant divide on zero\n"
     ]
    }
   ],
   "source": [
    "#sol\n",
    "x=float(input(\"Enter number 1\\n\"))\n",
    "y=float(input(\"Enter number 2\\n\"))\n",
    "op=input(\"Choose the operatot [-,+,/,*]\\n\")\n",
    "\n",
    "if op == '+':\n",
    "    print(f\"the sum for {x} + {y} = {x + y}\")\n",
    "elif op == '-':\n",
    "    print(f\"the subtraction for {x} - {y} = {x - y}\")\n",
    "elif op == '*':\n",
    "    print(f\"the multpling for {x} * {y} = {x * y}\")\n",
    "elif op == '/':\n",
    "    if y == 0:\n",
    "        print('cant divide on zero')\n",
    "    else:\n",
    "        print(f\"the division for {x} / {y} = {x / y}\")\n",
    "else:\n",
    "    print('wrong operation')\n"
   ]
  },
  {
   "cell_type": "markdown",
   "id": "cf2c0e6e",
   "metadata": {},
   "source": [
    "#### Exercise - 7: Take an input from the user and print out if the num is even or odd."
   ]
  },
  {
   "cell_type": "code",
   "execution_count": 3,
   "id": "91c63a68",
   "metadata": {},
   "outputs": [
    {
     "name": "stdout",
     "output_type": "stream",
     "text": [
      "Please Insert Your Number To Check20\n"
     ]
    }
   ],
   "source": [
    "number=int(input(\"Please Insert Your number to check\".title()))"
   ]
  },
  {
   "cell_type": "code",
   "execution_count": 4,
   "id": "cfc9b6d9",
   "metadata": {},
   "outputs": [
    {
     "name": "stdout",
     "output_type": "stream",
     "text": [
      "20 is Even!\n"
     ]
    }
   ],
   "source": [
    "#sol.\n",
    "if number%2==0:\n",
    "    print(f\"{number} is Even!\")\n",
    "else:\n",
    "    print(f\"{number} is Odd!\")"
   ]
  },
  {
   "cell_type": "code",
   "execution_count": null,
   "id": "ea39fde1",
   "metadata": {},
   "outputs": [],
   "source": []
  },
  {
   "cell_type": "code",
   "execution_count": null,
   "id": "6247d26c",
   "metadata": {},
   "outputs": [],
   "source": []
  },
  {
   "cell_type": "markdown",
   "id": "063d81b2",
   "metadata": {},
   "source": [
    "# 4) for Loops\n",
    "\n",
    "A <code>for</code> loop acts as an iterator in Python; it goes through items that are in a *sequence* or any other iterable item. Objects that we've learned about that we can iterate over include strings, lists, tuples, and even built-in iterables for dictionaries, such as keys or values.\n",
    "\n",
    "We've already seen the <code>for</code> statement a little bit in past lectures but now let's formalize our understanding.\n",
    "\n",
    "Here's the general format for a <code>for</code> loop in Python:\n",
    "\n",
    "    for item in object:\n",
    "        statements to do stuff\n",
    "        \n",
    "## Table of Contents\n",
    "1. Iterate through Lists\n",
    "2. Iterate through Strings\n",
    "3. Iterate through Tuples\n",
    "4. Tuple Unpacking\n",
    "5. Iterate throuh Dictionaries\n",
    "6. Use `range` to generate numbers.\n",
    "7. Break & Continue\n",
    "8. Nested for loops\n",
    "9. Examples\n",
    "    "
   ]
  },
  {
   "cell_type": "code",
   "execution_count": 7,
   "id": "21f79ab0",
   "metadata": {},
   "outputs": [
    {
     "data": {
      "text/plain": [
       "range(-100, 100, 2)"
      ]
     },
     "execution_count": 7,
     "metadata": {},
     "output_type": "execute_result"
    }
   ],
   "source": [
    "# range function \n",
    "range(100)   #it will create sequence of numbers from 0 to 99\n",
    "range(-100,100,2) # iw will create a sequence of numbers from -100 to 99 with skip two numbers. "
   ]
  },
  {
   "cell_type": "code",
   "execution_count": 8,
   "id": "c254705e",
   "metadata": {
    "collapsed": true
   },
   "outputs": [
    {
     "name": "stdout",
     "output_type": "stream",
     "text": [
      "0\n",
      "1\n",
      "2\n",
      "3\n",
      "4\n",
      "5\n",
      "6\n",
      "7\n",
      "8\n",
      "9\n",
      "10\n",
      "11\n",
      "12\n",
      "13\n",
      "14\n",
      "15\n",
      "16\n",
      "17\n",
      "18\n",
      "19\n",
      "20\n",
      "21\n",
      "22\n",
      "23\n",
      "24\n",
      "25\n",
      "26\n",
      "27\n",
      "28\n",
      "29\n",
      "30\n",
      "31\n",
      "32\n",
      "33\n",
      "34\n",
      "35\n",
      "36\n",
      "37\n",
      "38\n",
      "39\n",
      "40\n",
      "41\n",
      "42\n",
      "43\n",
      "44\n",
      "45\n",
      "46\n",
      "47\n",
      "48\n",
      "49\n",
      "50\n",
      "51\n",
      "52\n",
      "53\n",
      "54\n",
      "55\n",
      "56\n",
      "57\n",
      "58\n",
      "59\n",
      "60\n",
      "61\n",
      "62\n",
      "63\n",
      "64\n",
      "65\n",
      "66\n",
      "67\n",
      "68\n",
      "69\n",
      "70\n",
      "71\n",
      "72\n",
      "73\n",
      "74\n",
      "75\n",
      "76\n",
      "77\n",
      "78\n",
      "79\n",
      "80\n",
      "81\n",
      "82\n",
      "83\n",
      "84\n",
      "85\n",
      "86\n",
      "87\n",
      "88\n",
      "89\n",
      "90\n",
      "91\n",
      "92\n",
      "93\n",
      "94\n",
      "95\n",
      "96\n",
      "97\n",
      "98\n",
      "99\n"
     ]
    }
   ],
   "source": [
    "# for loop can use any sequence of numbers.\n",
    "for i in range(100):\n",
    "    print(i,end='\\n')"
   ]
  },
  {
   "cell_type": "code",
   "execution_count": 14,
   "id": "2d247896",
   "metadata": {},
   "outputs": [
    {
     "name": "stdout",
     "output_type": "stream",
     "text": [
      "0\n",
      "2\n",
      "4\n",
      "6\n",
      "8\n"
     ]
    }
   ],
   "source": [
    "for num in range(0,10,2): # it will skip two each numbers \n",
    "    print(num)"
   ]
  },
  {
   "cell_type": "code",
   "execution_count": 15,
   "id": "9a0e42de",
   "metadata": {},
   "outputs": [
    {
     "name": "stdout",
     "output_type": "stream",
     "text": [
      "1\n",
      "2\n",
      "3\n",
      "4\n",
      "apple\n"
     ]
    }
   ],
   "source": [
    "# 1) Iterrate through list\n",
    "L=[1,2,3,4,\"apple\"]\n",
    "for ind in L:\n",
    "    print(ind)"
   ]
  },
  {
   "cell_type": "code",
   "execution_count": 22,
   "id": "f869742d",
   "metadata": {},
   "outputs": [
    {
     "name": "stdout",
     "output_type": "stream",
     "text": [
      "10 is Even number\n",
      "33 is Odd number\n",
      "11 is Odd number\n",
      "55 is Odd number\n",
      "60 is Even number\n"
     ]
    }
   ],
   "source": [
    "# we can use if condtion in the loop\n",
    "list1=[10,33,11,55,60]\n",
    "for num in list1:\n",
    "    if num % 2 == 0:\n",
    "        print(f'{num} is Even number')\n",
    "    else:\n",
    "        print(f'{num} is Odd number')"
   ]
  },
  {
   "cell_type": "code",
   "execution_count": 16,
   "id": "fd5a0def",
   "metadata": {
    "collapsed": true
   },
   "outputs": [
    {
     "name": "stdout",
     "output_type": "stream",
     "text": [
      "M\n",
      "a\n",
      "h\n",
      "m\n",
      "o\n",
      "u\n",
      "d\n",
      " \n",
      "Y\n",
      "o\n",
      "u\n",
      "s\n",
      "s\n",
      "e\n",
      "f\n"
     ]
    }
   ],
   "source": [
    "#2) Iterate through Strings\n",
    "name='Mahmoud Youssef'\n",
    "for char in name:\n",
    "    print(char)"
   ]
  },
  {
   "cell_type": "code",
   "execution_count": 17,
   "id": "9d37b470",
   "metadata": {},
   "outputs": [
    {
     "name": "stdout",
     "output_type": "stream",
     "text": [
      "Mahmoud Youssef"
     ]
    }
   ],
   "source": [
    "#2) Iterate through Strings\n",
    "name='Mahmoud Youssef'\n",
    "for char in name:\n",
    "    print(char,end='')"
   ]
  },
  {
   "cell_type": "code",
   "execution_count": 18,
   "id": "31a31361",
   "metadata": {},
   "outputs": [
    {
     "name": "stdout",
     "output_type": "stream",
     "text": [
      "10\n",
      "20\n",
      "-100\n"
     ]
    }
   ],
   "source": [
    "#3)Iterate through Tuples\n",
    "tuple_=(10,20,-100)\n",
    "for t in tuple_:\n",
    "    print(t)"
   ]
  },
  {
   "cell_type": "code",
   "execution_count": 19,
   "id": "a90a78b1",
   "metadata": {},
   "outputs": [
    {
     "name": "stdout",
     "output_type": "stream",
     "text": [
      "1 2\n",
      "3 4\n",
      "Apple Bananna\n"
     ]
    }
   ],
   "source": [
    "#4) Tuple Unpacking\n",
    "l=[(1,2),(3,4),(\"Apple\",\"Bananna\")]\n",
    "for i,j in l:\n",
    "    print(i,j)"
   ]
  },
  {
   "cell_type": "code",
   "execution_count": 23,
   "id": "73b18e0d",
   "metadata": {},
   "outputs": [],
   "source": [
    "#5) Iterate throuh Dictionaries\n",
    "students={\n",
    "    'names':['Ahmed','Mahmoud','Kareem','Ibrahim','Maryam'],\n",
    "    'ages':[21,25,23,21,20],\n",
    "    'ids':[1,2,3,4,5]\n",
    "}"
   ]
  },
  {
   "cell_type": "code",
   "execution_count": 26,
   "id": "f69648d9",
   "metadata": {},
   "outputs": [
    {
     "name": "stdout",
     "output_type": "stream",
     "text": [
      "names   :  ['Ahmed', 'Mahmoud', 'Kareem', 'Ibrahim', 'Maryam']\n",
      "ages   :  [21, 25, 23, 21, 20]\n",
      "ids   :  [1, 2, 3, 4, 5]\n"
     ]
    }
   ],
   "source": [
    "for key,val in students.items():\n",
    "    print(key,\"  : \",val)"
   ]
  },
  {
   "cell_type": "code",
   "execution_count": 27,
   "id": "a35bc83a",
   "metadata": {},
   "outputs": [],
   "source": [
    "# 6)Break & Continue\n",
    "\n",
    "# Continue: skip the current iteration and go to the next one\n",
    "# Break: break out of the loop and end the loop\n"
   ]
  },
  {
   "cell_type": "code",
   "execution_count": 28,
   "id": "020fedcc",
   "metadata": {
    "collapsed": true
   },
   "outputs": [
    {
     "name": "stdout",
     "output_type": "stream",
     "text": [
      "1\n",
      "2\n",
      "3\n",
      "4\n",
      "5\n",
      "6\n",
      "7\n",
      "8\n",
      "9\n",
      "11\n",
      "12\n",
      "13\n",
      "14\n",
      "15\n",
      "16\n",
      "17\n",
      "18\n",
      "19\n",
      "20\n"
     ]
    }
   ],
   "source": [
    "# print out all values from 1 to 20 execpt 10.  [continue]\n",
    "x=10\n",
    "for i in range(1,21):\n",
    "    if i==10:\n",
    "        continue\n",
    "    print(i)"
   ]
  },
  {
   "cell_type": "code",
   "execution_count": 30,
   "id": "76737718",
   "metadata": {},
   "outputs": [
    {
     "name": "stdout",
     "output_type": "stream",
     "text": [
      "10\n"
     ]
    }
   ],
   "source": [
    "# print only 10 from range 1-100.  [continue]\n",
    "for i in range(1,21):\n",
    "    if i==10:\n",
    "        x=i\n",
    "        break #break when the condtion is be true.\n",
    "print(x) #then print the result that will be 10."
   ]
  },
  {
   "cell_type": "code",
   "execution_count": null,
   "id": "b2d8f1ed",
   "metadata": {},
   "outputs": [],
   "source": [
    "# Nested for loops:\n",
    "    #is to make multiple for loops inside for loop."
   ]
  },
  {
   "cell_type": "code",
   "execution_count": 31,
   "id": "c7326af5",
   "metadata": {},
   "outputs": [
    {
     "name": "stdout",
     "output_type": "stream",
     "text": [
      "1 * 1 = 1\n",
      "1 * 2 = 2\n",
      "1 * 3 = 3\n",
      "1 * 4 = 4\n",
      "1 * 5 = 5\n",
      "1 * 6 = 6\n",
      "1 * 7 = 7\n",
      "1 * 8 = 8\n",
      "1 * 9 = 9\n",
      "1 * 10 = 10\n"
     ]
    }
   ],
   "source": [
    "#gadwl el darb\n",
    "for i in range(1, 11):\n",
    "    print(f\"1 * {i} = {1 * i}\")"
   ]
  },
  {
   "cell_type": "code",
   "execution_count": 32,
   "id": "23cff742",
   "metadata": {},
   "outputs": [
    {
     "name": "stdout",
     "output_type": "stream",
     "text": [
      "gdwl el darb le rkm 1\n",
      "1 * 1 = 1\n",
      "1 * 2 = 2\n",
      "1 * 3 = 3\n",
      "1 * 4 = 4\n",
      "1 * 5 = 5\n",
      "1 * 6 = 6\n",
      "1 * 7 = 7\n",
      "1 * 8 = 8\n",
      "1 * 9 = 9\n",
      "1 * 10 = 10\n",
      "--------------\n",
      "gdwl el darb le rkm 2\n",
      "2 * 1 = 2\n",
      "2 * 2 = 4\n",
      "2 * 3 = 6\n",
      "2 * 4 = 8\n",
      "2 * 5 = 10\n",
      "2 * 6 = 12\n",
      "2 * 7 = 14\n",
      "2 * 8 = 16\n",
      "2 * 9 = 18\n",
      "2 * 10 = 20\n",
      "--------------\n",
      "gdwl el darb le rkm 3\n",
      "3 * 1 = 3\n",
      "3 * 2 = 6\n",
      "3 * 3 = 9\n",
      "3 * 4 = 12\n",
      "3 * 5 = 15\n",
      "3 * 6 = 18\n",
      "3 * 7 = 21\n",
      "3 * 8 = 24\n",
      "3 * 9 = 27\n",
      "3 * 10 = 30\n",
      "--------------\n",
      "gdwl el darb le rkm 4\n",
      "4 * 1 = 4\n",
      "4 * 2 = 8\n",
      "4 * 3 = 12\n",
      "4 * 4 = 16\n",
      "4 * 5 = 20\n",
      "4 * 6 = 24\n",
      "4 * 7 = 28\n",
      "4 * 8 = 32\n",
      "4 * 9 = 36\n",
      "4 * 10 = 40\n",
      "--------------\n",
      "gdwl el darb le rkm 5\n",
      "5 * 1 = 5\n",
      "5 * 2 = 10\n",
      "5 * 3 = 15\n",
      "5 * 4 = 20\n",
      "5 * 5 = 25\n",
      "5 * 6 = 30\n",
      "5 * 7 = 35\n",
      "5 * 8 = 40\n",
      "5 * 9 = 45\n",
      "5 * 10 = 50\n",
      "--------------\n",
      "gdwl el darb le rkm 6\n",
      "6 * 1 = 6\n",
      "6 * 2 = 12\n",
      "6 * 3 = 18\n",
      "6 * 4 = 24\n",
      "6 * 5 = 30\n",
      "6 * 6 = 36\n",
      "6 * 7 = 42\n",
      "6 * 8 = 48\n",
      "6 * 9 = 54\n",
      "6 * 10 = 60\n",
      "--------------\n",
      "gdwl el darb le rkm 7\n",
      "7 * 1 = 7\n",
      "7 * 2 = 14\n",
      "7 * 3 = 21\n",
      "7 * 4 = 28\n",
      "7 * 5 = 35\n",
      "7 * 6 = 42\n",
      "7 * 7 = 49\n",
      "7 * 8 = 56\n",
      "7 * 9 = 63\n",
      "7 * 10 = 70\n",
      "--------------\n",
      "gdwl el darb le rkm 8\n",
      "8 * 1 = 8\n",
      "8 * 2 = 16\n",
      "8 * 3 = 24\n",
      "8 * 4 = 32\n",
      "8 * 5 = 40\n",
      "8 * 6 = 48\n",
      "8 * 7 = 56\n",
      "8 * 8 = 64\n",
      "8 * 9 = 72\n",
      "8 * 10 = 80\n",
      "--------------\n",
      "gdwl el darb le rkm 9\n",
      "9 * 1 = 9\n",
      "9 * 2 = 18\n",
      "9 * 3 = 27\n",
      "9 * 4 = 36\n",
      "9 * 5 = 45\n",
      "9 * 6 = 54\n",
      "9 * 7 = 63\n",
      "9 * 8 = 72\n",
      "9 * 9 = 81\n",
      "9 * 10 = 90\n",
      "--------------\n",
      "gdwl el darb le rkm 10\n",
      "10 * 1 = 10\n",
      "10 * 2 = 20\n",
      "10 * 3 = 30\n",
      "10 * 4 = 40\n",
      "10 * 5 = 50\n",
      "10 * 6 = 60\n",
      "10 * 7 = 70\n",
      "10 * 8 = 80\n",
      "10 * 9 = 90\n",
      "10 * 10 = 100\n",
      "--------------\n"
     ]
    }
   ],
   "source": [
    "for x in range(1, 11):\n",
    "    print(f'gdwl el darb le rkm {x}')\n",
    "    for y in range(1, 11):\n",
    "        print(f\"{x} * {y} = {x * y}\")\n",
    "    print('--------------')"
   ]
  },
  {
   "cell_type": "code",
   "execution_count": 33,
   "id": "565b6872",
   "metadata": {
    "collapsed": true
   },
   "outputs": [
    {
     "name": "stdout",
     "output_type": "stream",
     "text": [
      "letters of monday are: \n",
      "m\n",
      "o\n",
      "n\n",
      "d\n",
      "a\n",
      "y\n",
      "-----------\n",
      "letters of friday are: \n",
      "f\n",
      "r\n",
      "i\n",
      "d\n",
      "a\n",
      "y\n",
      "-----------\n",
      "letters of saturday are: \n",
      "s\n",
      "a\n",
      "t\n",
      "u\n",
      "r\n",
      "d\n",
      "a\n",
      "y\n",
      "-----------\n"
     ]
    }
   ],
   "source": [
    "days = ['monday', 'friday', 'saturday']\n",
    "\n",
    "for day in days:\n",
    "    print(f'letters of {day} are: ')\n",
    "    for letter in day:\n",
    "        print(letter)\n",
    "    print('-----------')"
   ]
  },
  {
   "cell_type": "markdown",
   "id": "e395d6c8",
   "metadata": {},
   "source": [
    "#### Exercise - 7:\n",
    "Now build a code to print out if the number is +ve , -ve or 0 \n",
    "from below list:\n",
    "\n",
    "\n",
    "[10, 30, 35, 12, 100, -4, -20, 0]"
   ]
  },
  {
   "cell_type": "code",
   "execution_count": 36,
   "id": "eb8d47d5",
   "metadata": {},
   "outputs": [
    {
     "name": "stdout",
     "output_type": "stream",
     "text": [
      "10 +ve\n",
      "30 +ve\n",
      "35 +ve\n",
      "12 +ve\n",
      "100 +ve\n",
      "-4 -ve\n",
      "-20 -ve\n",
      "0 is 0\n"
     ]
    }
   ],
   "source": [
    "#sol\n",
    "my_list = [10, 30, 35, 12, 100, -4, -20, 0]\n",
    "\n",
    "for i in my_list:\n",
    "    if i < 0:\n",
    "        print(f\"{i} -ve\")\n",
    "    elif i > 0:\n",
    "        print(f\"{i} +ve\")\n",
    "    else:\n",
    "        print(f\"{i} is 0\")"
   ]
  },
  {
   "cell_type": "markdown",
   "id": "ff18790c",
   "metadata": {},
   "source": [
    "#### Exercise - 8: \n",
    "Build a code to sum values from 1 to 1000 and print out the sum"
   ]
  },
  {
   "cell_type": "code",
   "execution_count": 38,
   "id": "e07033f9",
   "metadata": {},
   "outputs": [
    {
     "name": "stdout",
     "output_type": "stream",
     "text": [
      "sum=5050\n"
     ]
    }
   ],
   "source": [
    "#sol.\n",
    "sum_=0\n",
    "for i in range(1,100+1):\n",
    "    sum_+=i\n",
    "print(f\"sum={sum_}\")"
   ]
  },
  {
   "cell_type": "code",
   "execution_count": null,
   "id": "683be808",
   "metadata": {},
   "outputs": [],
   "source": []
  },
  {
   "cell_type": "markdown",
   "id": "a5a9f351",
   "metadata": {},
   "source": [
    "# 5) while Loops\n",
    "\n",
    "The <code>while</code> statement in Python is one of most general ways to perform iteration. A <code>while</code> statement will repeatedly execute a single statement or group of statements as long as the condition is true. The reason it is called a 'loop' is because the code statements are looped through over and over again until the condition is no longer met.\n",
    "\n",
    "The general format of a while loop is:\n",
    "\n",
    "    while test:\n",
    "        code statements\n",
    "\n",
    "Let’s look at a few simple <code>while</code> loops in action. "
   ]
  },
  {
   "cell_type": "code",
   "execution_count": 39,
   "id": "041d8db1",
   "metadata": {},
   "outputs": [
    {
     "name": "stdout",
     "output_type": "stream",
     "text": [
      "0\n",
      "1\n",
      "2\n",
      "3\n",
      "4\n",
      "5\n",
      "6\n",
      "7\n",
      "8\n",
      "9\n"
     ]
    }
   ],
   "source": [
    "x = 0\n",
    "\n",
    "while x < 10:\n",
    "    print(x)\n",
    "    x += 1"
   ]
  },
  {
   "cell_type": "code",
   "execution_count": 40,
   "id": "5a5185ad",
   "metadata": {},
   "outputs": [
    {
     "name": "stdout",
     "output_type": "stream",
     "text": [
      "0\n",
      "continuing...\n",
      "1\n",
      "continuing...\n",
      "2\n",
      "continuing...\n",
      "3\n",
      "x==3\n",
      "4\n",
      "continuing...\n",
      "5\n",
      "continuing...\n",
      "6\n",
      "continuing...\n",
      "7\n",
      "continuing...\n",
      "8\n",
      "continuing...\n",
      "9\n",
      "continuing...\n"
     ]
    }
   ],
   "source": [
    "x = 0\n",
    "\n",
    "while x < 10:\n",
    "    print(x)\n",
    "    if x==3:\n",
    "        print('x==3')\n",
    "    else:\n",
    "        print('continuing...')\n",
    "    x+=1"
   ]
  },
  {
   "cell_type": "code",
   "execution_count": 41,
   "id": "7f0e166d",
   "metadata": {},
   "outputs": [
    {
     "name": "stdout",
     "output_type": "stream",
     "text": [
      "1\n",
      "nice\n",
      "2\n",
      "nice\n",
      "3\n",
      "continuing...\n",
      "4\n",
      "nice\n",
      "5\n",
      "nice\n",
      "6\n",
      "nice\n",
      "7\n",
      "Breaking because x == 7\n"
     ]
    }
   ],
   "source": [
    "x = 0\n",
    "\n",
    "while x < 10:\n",
    "    x += 1\n",
    "    print(x)\n",
    "    if x == 7:\n",
    "        print('Breaking because x == 7')\n",
    "        break\n",
    "    elif x == 3:\n",
    "        print('continuing...')\n",
    "        continue\n",
    "    print('nice')"
   ]
  },
  {
   "cell_type": "code",
   "execution_count": null,
   "id": "0fd2a782",
   "metadata": {},
   "outputs": [],
   "source": [
    "# DO NOT RUN THIS CODE!!!! \n",
    "while True:\n",
    "    print('hi') # i will loop forever."
   ]
  },
  {
   "cell_type": "code",
   "execution_count": null,
   "id": "883d07e8",
   "metadata": {},
   "outputs": [],
   "source": []
  },
  {
   "cell_type": "code",
   "execution_count": null,
   "id": "0c147a09",
   "metadata": {},
   "outputs": [],
   "source": []
  },
  {
   "cell_type": "markdown",
   "id": "4b471d00",
   "metadata": {},
   "source": [
    "## <font color='red'>End For Today!"
   ]
  }
 ],
 "metadata": {
  "kernelspec": {
   "display_name": "Python 3 (ipykernel)",
   "language": "python",
   "name": "python3"
  },
  "language_info": {
   "codemirror_mode": {
    "name": "ipython",
    "version": 3
   },
   "file_extension": ".py",
   "mimetype": "text/x-python",
   "name": "python",
   "nbconvert_exporter": "python",
   "pygments_lexer": "ipython3",
   "version": "3.10.4"
  }
 },
 "nbformat": 4,
 "nbformat_minor": 5
}
